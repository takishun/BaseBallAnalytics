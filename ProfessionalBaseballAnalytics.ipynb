{
 "cells": [
  {
   "cell_type": "code",
   "execution_count": 1,
   "metadata": {},
   "outputs": [],
   "source": [
    "import pandas as pd\n",
    "import ssl\n",
    "ssl._create_default_https_context = ssl._create_unverified_context\n",
    "\n",
    "def crowl_url(url):\n",
    "    data = pd.read_html(url)\n",
    "    return data[0]\n",
    "\n",
    "def CyberMetricsBatter(df):\n",
    "    try:\n",
    "        df['IsoP'] = df['長打率']-df['打率']\n",
    "        df['BB/K'] = df['四球']/df['三振']\n",
    "        df['BABIP'] = df['打数']-df['三振']-df['本塁打']+df['犠飛']\n",
    "    except ZeroDivisionError:\n",
    "        print('0除算がありました。')\n",
    "\n",
    "    \n",
    "    return df\n",
    "\n",
    "def CyberMetricsPitcher(dataframe):\n",
    "    df['BABIP'] = (df['安打']-df['本塁打']) / (df['打数']-df['奪三振']-df['被本塁打'])\n"
   ]
  },
  {
   "cell_type": "code",
   "execution_count": 2,
   "metadata": {},
   "outputs": [],
   "source": [
    "Central_B = crowl_url('http://www.baseball-lab.jp/league/team_ranking/batter/central-league/2019')\n",
    "Central_P = crowl_url('http://www.baseball-lab.jp/league/team_ranking/pitcher/central-league/2019')\n",
    "Pacific_B = crowl_url('http://www.baseball-lab.jp/league/team_ranking/batter/pacific-league/2019/')\n",
    "Pacific_P = crowl_url('http://www.baseball-lab.jp/league/team_ranking/pitcher/pacific-league/2019/')"
   ]
  },
  {
   "cell_type": "code",
   "execution_count": 3,
   "metadata": {},
   "outputs": [],
   "source": [
    "CentralPlayerBRanking = crowl_url('http://www.baseball-lab.jp/league/player_ranking/batter/central-league/2019')\n",
    "CentralPlayerPRanking = crowl_url('http://www.baseball-lab.jp/league/player_ranking/pitcher/central-league/2019')\n",
    "PatcificPlayerBRanking = crowl_url('http://www.baseball-lab.jp/league/player_ranking/batter/pacific-league/2019/')\n",
    "PatcificPlayerPRanking = crowl_url('http://www.baseball-lab.jp/league/player_ranking/pitcher/pacific-league/2019/')"
   ]
  },
  {
   "cell_type": "code",
   "execution_count": 4,
   "metadata": {},
   "outputs": [
    {
     "data": {
      "text/plain": [
       "Index(['順位', 'チーム', '選手名', '試合', '完投', '当初', '完封', '無四球', '勝数', '負数', 'セーブ',\n",
       "       'ホールド', 'HP', '勝率', '投球回', '打者', '打数', '被安打', '被本塁打', '与四球', '与死球',\n",
       "       '奪三振', '暴投', 'ボーク', '失点', '自責点', '防御率', 'BB/9', 'K/9', 'K/BB', 'WHIP'],\n",
       "      dtype='object')"
      ]
     },
     "execution_count": 4,
     "metadata": {},
     "output_type": "execute_result"
    }
   ],
   "source": [
    "PatcificPlayerPRanking.columns"
   ]
  },
  {
   "cell_type": "code",
   "execution_count": 7,
   "metadata": {},
   "outputs": [
    {
     "data": {
      "text/plain": [
       "Index(['順位', 'チーム', '選手名', '試合', '打席', '打数', '得点', '安打', '二塁打', '三塁打', '本塁打',\n",
       "       '塁打', '打点', '三振', '四球', '敬遠', '死球', '犠打', '犠飛', '盗塁', '盗塁刺', '併殺打',\n",
       "       '失策', '打率', '長打率', '出塁率', 'OPS'],\n",
       "      dtype='object')"
      ]
     },
     "execution_count": 7,
     "metadata": {},
     "output_type": "execute_result"
    }
   ],
   "source": [
    "PatcificPlayerBRanking.columns"
   ]
  },
  {
   "cell_type": "code",
   "execution_count": 5,
   "metadata": {},
   "outputs": [],
   "source": [
    "a = CyberMetricsBatter(CentralPlayerBRanking)"
   ]
  },
  {
   "cell_type": "code",
   "execution_count": 7,
   "metadata": {},
   "outputs": [],
   "source": [
    "CentralPlayerBRanking.to_csv('CLBRank.csv')\n",
    "CentralPlayerPRanking.to_csv('CLPRank.csv')\n",
    "PatcificPlayerBRanking.to_csv('PPBRank.csv')\n",
    "PatcificPlayerPRanking.to_csv('PPPRank.csv')"
   ]
  },
  {
   "cell_type": "code",
   "execution_count": 1,
   "metadata": {},
   "outputs": [],
   "source": [
    "import pandas as pd"
   ]
  },
  {
   "cell_type": "code",
   "execution_count": 11,
   "metadata": {},
   "outputs": [
    {
     "data": {
      "text/plain": [
       "<matplotlib.axes._subplots.AxesSubplot at 0x2b44c1d9a20>"
      ]
     },
     "execution_count": 11,
     "metadata": {},
     "output_type": "execute_result"
    },
    {
     "data": {
      "image/png": "[encoded data removed]",
      "text/plain": [
       "<Figure size 432x288 with 1 Axes>"
      ]
     },
     "metadata": {
      "needs_background": "light"
     },
     "output_type": "display_data"
    }
   ],
   "source": [
    "%matplotlib inline\n",
    "a[['OPS','選手名']].plot()"
   ]
  },
  {
   "cell_type": "code",
   "execution_count": null,
   "metadata": {},
   "outputs": [],
   "source": []
  }
 ],
 "metadata": {
  "kernelspec": {
   "display_name": "Python 3",
   "language": "python",
   "name": "python3"
  },
  "language_info": {
   "codemirror_mode": {
    "name": "ipython",
    "version": 3
   },
   "file_extension": ".py",
   "mimetype": "text/x-python",
   "name": "python",
   "nbconvert_exporter": "python",
   "pygments_lexer": "ipython3",
   "version": "3.7.3"
  }
 },
 "nbformat": 4,
 "nbformat_minor": 2
}

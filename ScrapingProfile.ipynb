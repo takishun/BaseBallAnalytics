{
 "cells": [
  {
   "cell_type": "code",
   "execution_count": 13,
   "metadata": {},
   "outputs": [],
   "source": [
    "import pandas as pd\n",
    "import time"
   ]
  },
  {
   "cell_type": "code",
   "execution_count": 16,
   "metadata": {},
   "outputs": [],
   "source": [
    "data = pd.read_html('https://baseball-data.com/19/player/yb/')"
   ]
  },
  {
   "cell_type": "code",
   "execution_count": 18,
   "metadata": {},
   "outputs": [
    {
     "data": {
      "text/plain": [
       "[    No.    選手名   守備        生年月日   年齢   年数     身長     体重 血液型  投打      出身地  \\\n",
       " 0     0  宮本　秀明  外野手  1996/07/24  23歳   2年  178cm   83kg  O型  右左       熊本   \n",
       " 1     0  中井　大介  内野手  1989/11/27  30歳  12年  183cm   88kg  B型  右右       三重   \n",
       " 2     1  桑原　将志  外野手  1993/07/21  26歳   8年  174cm   78kg  B型  右右       大阪   \n",
       " 3     2    ロペス  内野手  1983/11/24  36歳   7年  183cm  103kg  不明  右右    ベネズエラ   \n",
       " 4     3  梶谷　隆幸  外野手  1988/08/28  31歳  13年  180cm   85kg  A型  右左       島根   \n",
       " ..  ...    ...  ...         ...  ...  ...    ...    ...  ..  ..      ...   \n",
       " 68   97    ソリス   投手  1988/08/10  31歳   1年  196cm  114kg  不明  左右     アメリカ   \n",
       " 69   99     ソト  内野手  1989/02/28  30歳   2年  185cm   97kg  不明  右右   プエルトリコ   \n",
       " 70  100  宮城　滝太   投手  2000/07/15  19歳   1年  181cm   73kg  A型  右右       沖縄   \n",
       " 71  106  水野　滉也   投手  1994/06/01  25歳   3年  175cm   80kg  O型  右右      北海道   \n",
       " 72  107   コルデロ   投手  1997/12/18  22歳   1年  189cm   88kg  不明  左左  ドミニカ共和国   \n",
       " \n",
       "       年俸(推定)  \n",
       " 0      850万円  \n",
       " 1    1,200万円  \n",
       " 2    8,400万円  \n",
       " 3   23,000万円  \n",
       " 4    9,600万円  \n",
       " ..       ...  \n",
       " 68   3,300万円  \n",
       " 69   9,500万円  \n",
       " 70     340万円  \n",
       " 71     950万円  \n",
       " 72     240万円  \n",
       " \n",
       " [73 rows x 12 columns]]"
      ]
     },
     "execution_count": 18,
     "metadata": {},
     "output_type": "execute_result"
    }
   ],
   "source": [
    "# 取ったデータを確認してみましょう。\n",
    "data"
   ]
  },
  {
   "cell_type": "code",
   "execution_count": 19,
   "metadata": {},
   "outputs": [],
   "source": [
    "#listの形になってますね。\n",
    "#DataFrame型にしましょう。"
   ]
  },
  {
   "cell_type": "code",
   "execution_count": 21,
   "metadata": {},
   "outputs": [],
   "source": [
    "data = data[0]"
   ]
  },
  {
   "cell_type": "code",
   "execution_count": null,
   "metadata": {},
   "outputs": [],
   "source": [
    "#DataFrame型にできましたので、データを確認してみましょう。"
   ]
  },
  {
   "cell_type": "code",
   "execution_count": 22,
   "metadata": {},
   "outputs": [
    {
     "data": {
      "text/html": [
       "<div>\n",
       "<style scoped>\n",
       "    .dataframe tbody tr th:only-of-type {\n",
       "        vertical-align: middle;\n",
       "    }\n",
       "\n",
       "    .dataframe tbody tr th {\n",
       "        vertical-align: top;\n",
       "    }\n",
       "\n",
       "    .dataframe thead th {\n",
       "        text-align: right;\n",
       "    }\n",
       "</style>\n",
       "<table border=\"1\" class=\"dataframe\">\n",
       "  <thead>\n",
       "    <tr style=\"text-align: right;\">\n",
       "      <th></th>\n",
       "      <th>No.</th>\n",
       "      <th>選手名</th>\n",
       "      <th>守備</th>\n",
       "      <th>生年月日</th>\n",
       "      <th>年齢</th>\n",
       "      <th>年数</th>\n",
       "      <th>身長</th>\n",
       "      <th>体重</th>\n",
       "      <th>血液型</th>\n",
       "      <th>投打</th>\n",
       "      <th>出身地</th>\n",
       "      <th>年俸(推定)</th>\n",
       "    </tr>\n",
       "  </thead>\n",
       "  <tbody>\n",
       "    <tr>\n",
       "      <th>0</th>\n",
       "      <td>0</td>\n",
       "      <td>宮本　秀明</td>\n",
       "      <td>外野手</td>\n",
       "      <td>1996/07/24</td>\n",
       "      <td>23歳</td>\n",
       "      <td>2年</td>\n",
       "      <td>178cm</td>\n",
       "      <td>83kg</td>\n",
       "      <td>O型</td>\n",
       "      <td>右左</td>\n",
       "      <td>熊本</td>\n",
       "      <td>850万円</td>\n",
       "    </tr>\n",
       "    <tr>\n",
       "      <th>1</th>\n",
       "      <td>0</td>\n",
       "      <td>中井　大介</td>\n",
       "      <td>内野手</td>\n",
       "      <td>1989/11/27</td>\n",
       "      <td>30歳</td>\n",
       "      <td>12年</td>\n",
       "      <td>183cm</td>\n",
       "      <td>88kg</td>\n",
       "      <td>B型</td>\n",
       "      <td>右右</td>\n",
       "      <td>三重</td>\n",
       "      <td>1,200万円</td>\n",
       "    </tr>\n",
       "    <tr>\n",
       "      <th>2</th>\n",
       "      <td>1</td>\n",
       "      <td>桑原　将志</td>\n",
       "      <td>外野手</td>\n",
       "      <td>1993/07/21</td>\n",
       "      <td>26歳</td>\n",
       "      <td>8年</td>\n",
       "      <td>174cm</td>\n",
       "      <td>78kg</td>\n",
       "      <td>B型</td>\n",
       "      <td>右右</td>\n",
       "      <td>大阪</td>\n",
       "      <td>8,400万円</td>\n",
       "    </tr>\n",
       "    <tr>\n",
       "      <th>3</th>\n",
       "      <td>2</td>\n",
       "      <td>ロペス</td>\n",
       "      <td>内野手</td>\n",
       "      <td>1983/11/24</td>\n",
       "      <td>36歳</td>\n",
       "      <td>7年</td>\n",
       "      <td>183cm</td>\n",
       "      <td>103kg</td>\n",
       "      <td>不明</td>\n",
       "      <td>右右</td>\n",
       "      <td>ベネズエラ</td>\n",
       "      <td>23,000万円</td>\n",
       "    </tr>\n",
       "    <tr>\n",
       "      <th>4</th>\n",
       "      <td>3</td>\n",
       "      <td>梶谷　隆幸</td>\n",
       "      <td>外野手</td>\n",
       "      <td>1988/08/28</td>\n",
       "      <td>31歳</td>\n",
       "      <td>13年</td>\n",
       "      <td>180cm</td>\n",
       "      <td>85kg</td>\n",
       "      <td>A型</td>\n",
       "      <td>右左</td>\n",
       "      <td>島根</td>\n",
       "      <td>9,600万円</td>\n",
       "    </tr>\n",
       "  </tbody>\n",
       "</table>\n",
       "</div>"
      ],
      "text/plain": [
       "   No.    選手名   守備        生年月日   年齢   年数     身長     体重 血液型  投打    出身地  \\\n",
       "0    0  宮本　秀明  外野手  1996/07/24  23歳   2年  178cm   83kg  O型  右左     熊本   \n",
       "1    0  中井　大介  内野手  1989/11/27  30歳  12年  183cm   88kg  B型  右右     三重   \n",
       "2    1  桑原　将志  外野手  1993/07/21  26歳   8年  174cm   78kg  B型  右右     大阪   \n",
       "3    2    ロペス  内野手  1983/11/24  36歳   7年  183cm  103kg  不明  右右  ベネズエラ   \n",
       "4    3  梶谷　隆幸  外野手  1988/08/28  31歳  13年  180cm   85kg  A型  右左     島根   \n",
       "\n",
       "     年俸(推定)  \n",
       "0     850万円  \n",
       "1   1,200万円  \n",
       "2   8,400万円  \n",
       "3  23,000万円  \n",
       "4   9,600万円  "
      ]
     },
     "execution_count": 22,
     "metadata": {},
     "output_type": "execute_result"
    }
   ],
   "source": [
    "data.head()"
   ]
  },
  {
   "cell_type": "markdown",
   "metadata": {},
   "source": [
    "# 最高の形じゃないか！！\n",
    "# きれいになっています。\n",
    "# 何もする必要がございませんｗ\n",
    "# せっかくですので、年齢や年俸など数値として扱いたいところは変換しておきましょう。"
   ]
  },
  {
   "cell_type": "markdown",
   "metadata": {},
   "source": [
    "# 型を確認します。"
   ]
  },
  {
   "cell_type": "code",
   "execution_count": 25,
   "metadata": {},
   "outputs": [
    {
     "data": {
      "text/plain": [
       "No.        int64\n",
       "選手名       object\n",
       "守備        object\n",
       "生年月日      object\n",
       "年齢        object\n",
       "年数        object\n",
       "身長        object\n",
       "体重        object\n",
       "血液型       object\n",
       "投打        object\n",
       "出身地       object\n",
       "年俸(推定)    object\n",
       "dtype: object"
      ]
     },
     "execution_count": 25,
     "metadata": {},
     "output_type": "execute_result"
    }
   ],
   "source": [
    "data.dtypes"
   ]
  },
  {
   "cell_type": "markdown",
   "metadata": {},
   "source": [
    "# 基本的にオブジェクト型ですので、文字列型にして「年」とかを削ってきます。"
   ]
  },
  {
   "cell_type": "code",
   "execution_count": 26,
   "metadata": {},
   "outputs": [],
   "source": [
    "data['年齢'] = data['年齢'].str.replace('歳','')"
   ]
  },
  {
   "cell_type": "markdown",
   "metadata": {},
   "source": [
    "# replaceで消して確認します。"
   ]
  },
  {
   "cell_type": "code",
   "execution_count": 27,
   "metadata": {},
   "outputs": [
    {
     "data": {
      "text/html": [
       "<div>\n",
       "<style scoped>\n",
       "    .dataframe tbody tr th:only-of-type {\n",
       "        vertical-align: middle;\n",
       "    }\n",
       "\n",
       "    .dataframe tbody tr th {\n",
       "        vertical-align: top;\n",
       "    }\n",
       "\n",
       "    .dataframe thead th {\n",
       "        text-align: right;\n",
       "    }\n",
       "</style>\n",
       "<table border=\"1\" class=\"dataframe\">\n",
       "  <thead>\n",
       "    <tr style=\"text-align: right;\">\n",
       "      <th></th>\n",
       "      <th>No.</th>\n",
       "      <th>選手名</th>\n",
       "      <th>守備</th>\n",
       "      <th>生年月日</th>\n",
       "      <th>年齢</th>\n",
       "      <th>年数</th>\n",
       "      <th>身長</th>\n",
       "      <th>体重</th>\n",
       "      <th>血液型</th>\n",
       "      <th>投打</th>\n",
       "      <th>出身地</th>\n",
       "      <th>年俸(推定)</th>\n",
       "    </tr>\n",
       "  </thead>\n",
       "  <tbody>\n",
       "    <tr>\n",
       "      <th>0</th>\n",
       "      <td>0</td>\n",
       "      <td>宮本　秀明</td>\n",
       "      <td>外野手</td>\n",
       "      <td>1996/07/24</td>\n",
       "      <td>23</td>\n",
       "      <td>2年</td>\n",
       "      <td>178cm</td>\n",
       "      <td>83kg</td>\n",
       "      <td>O型</td>\n",
       "      <td>右左</td>\n",
       "      <td>熊本</td>\n",
       "      <td>850万円</td>\n",
       "    </tr>\n",
       "    <tr>\n",
       "      <th>1</th>\n",
       "      <td>0</td>\n",
       "      <td>中井　大介</td>\n",
       "      <td>内野手</td>\n",
       "      <td>1989/11/27</td>\n",
       "      <td>30</td>\n",
       "      <td>12年</td>\n",
       "      <td>183cm</td>\n",
       "      <td>88kg</td>\n",
       "      <td>B型</td>\n",
       "      <td>右右</td>\n",
       "      <td>三重</td>\n",
       "      <td>1,200万円</td>\n",
       "    </tr>\n",
       "    <tr>\n",
       "      <th>2</th>\n",
       "      <td>1</td>\n",
       "      <td>桑原　将志</td>\n",
       "      <td>外野手</td>\n",
       "      <td>1993/07/21</td>\n",
       "      <td>26</td>\n",
       "      <td>8年</td>\n",
       "      <td>174cm</td>\n",
       "      <td>78kg</td>\n",
       "      <td>B型</td>\n",
       "      <td>右右</td>\n",
       "      <td>大阪</td>\n",
       "      <td>8,400万円</td>\n",
       "    </tr>\n",
       "    <tr>\n",
       "      <th>3</th>\n",
       "      <td>2</td>\n",
       "      <td>ロペス</td>\n",
       "      <td>内野手</td>\n",
       "      <td>1983/11/24</td>\n",
       "      <td>36</td>\n",
       "      <td>7年</td>\n",
       "      <td>183cm</td>\n",
       "      <td>103kg</td>\n",
       "      <td>不明</td>\n",
       "      <td>右右</td>\n",
       "      <td>ベネズエラ</td>\n",
       "      <td>23,000万円</td>\n",
       "    </tr>\n",
       "    <tr>\n",
       "      <th>4</th>\n",
       "      <td>3</td>\n",
       "      <td>梶谷　隆幸</td>\n",
       "      <td>外野手</td>\n",
       "      <td>1988/08/28</td>\n",
       "      <td>31</td>\n",
       "      <td>13年</td>\n",
       "      <td>180cm</td>\n",
       "      <td>85kg</td>\n",
       "      <td>A型</td>\n",
       "      <td>右左</td>\n",
       "      <td>島根</td>\n",
       "      <td>9,600万円</td>\n",
       "    </tr>\n",
       "  </tbody>\n",
       "</table>\n",
       "</div>"
      ],
      "text/plain": [
       "   No.    選手名   守備        生年月日  年齢   年数     身長     体重 血液型  投打    出身地    年俸(推定)\n",
       "0    0  宮本　秀明  外野手  1996/07/24  23   2年  178cm   83kg  O型  右左     熊本     850万円\n",
       "1    0  中井　大介  内野手  1989/11/27  30  12年  183cm   88kg  B型  右右     三重   1,200万円\n",
       "2    1  桑原　将志  外野手  1993/07/21  26   8年  174cm   78kg  B型  右右     大阪   8,400万円\n",
       "3    2    ロペス  内野手  1983/11/24  36   7年  183cm  103kg  不明  右右  ベネズエラ  23,000万円\n",
       "4    3  梶谷　隆幸  外野手  1988/08/28  31  13年  180cm   85kg  A型  右左     島根   9,600万円"
      ]
     },
     "execution_count": 27,
     "metadata": {},
     "output_type": "execute_result"
    }
   ],
   "source": [
    "data.head()"
   ]
  },
  {
   "cell_type": "markdown",
   "metadata": {},
   "source": [
    "# 簡単に消えたでしょう？\n",
    "# この処理を他の列にもやっていきます。"
   ]
  },
  {
   "cell_type": "code",
   "execution_count": 30,
   "metadata": {},
   "outputs": [],
   "source": [
    "data['年俸(推定)'] = data['年俸(推定)'].str.replace('万円','')\n",
    "data['年俸(推定)'] = data['年俸(推定)'].str.replace(',','')\n",
    "data['身長'] = data['身長'].str.replace('cm','')\n",
    "data['年数'] = data['年数'].str.replace('年','')\n",
    "data['体重'] = data['体重'].str.replace('kg','')"
   ]
  },
  {
   "cell_type": "code",
   "execution_count": 31,
   "metadata": {},
   "outputs": [
    {
     "data": {
      "text/html": [
       "<div>\n",
       "<style scoped>\n",
       "    .dataframe tbody tr th:only-of-type {\n",
       "        vertical-align: middle;\n",
       "    }\n",
       "\n",
       "    .dataframe tbody tr th {\n",
       "        vertical-align: top;\n",
       "    }\n",
       "\n",
       "    .dataframe thead th {\n",
       "        text-align: right;\n",
       "    }\n",
       "</style>\n",
       "<table border=\"1\" class=\"dataframe\">\n",
       "  <thead>\n",
       "    <tr style=\"text-align: right;\">\n",
       "      <th></th>\n",
       "      <th>No.</th>\n",
       "      <th>選手名</th>\n",
       "      <th>守備</th>\n",
       "      <th>生年月日</th>\n",
       "      <th>年齢</th>\n",
       "      <th>年数</th>\n",
       "      <th>身長</th>\n",
       "      <th>体重</th>\n",
       "      <th>血液型</th>\n",
       "      <th>投打</th>\n",
       "      <th>出身地</th>\n",
       "      <th>年俸(推定)</th>\n",
       "    </tr>\n",
       "  </thead>\n",
       "  <tbody>\n",
       "    <tr>\n",
       "      <th>0</th>\n",
       "      <td>0</td>\n",
       "      <td>宮本　秀明</td>\n",
       "      <td>外野手</td>\n",
       "      <td>1996/07/24</td>\n",
       "      <td>23</td>\n",
       "      <td>2</td>\n",
       "      <td>178</td>\n",
       "      <td>83</td>\n",
       "      <td>O型</td>\n",
       "      <td>右左</td>\n",
       "      <td>熊本</td>\n",
       "      <td>850</td>\n",
       "    </tr>\n",
       "    <tr>\n",
       "      <th>1</th>\n",
       "      <td>0</td>\n",
       "      <td>中井　大介</td>\n",
       "      <td>内野手</td>\n",
       "      <td>1989/11/27</td>\n",
       "      <td>30</td>\n",
       "      <td>12</td>\n",
       "      <td>183</td>\n",
       "      <td>88</td>\n",
       "      <td>B型</td>\n",
       "      <td>右右</td>\n",
       "      <td>三重</td>\n",
       "      <td>1200</td>\n",
       "    </tr>\n",
       "    <tr>\n",
       "      <th>2</th>\n",
       "      <td>1</td>\n",
       "      <td>桑原　将志</td>\n",
       "      <td>外野手</td>\n",
       "      <td>1993/07/21</td>\n",
       "      <td>26</td>\n",
       "      <td>8</td>\n",
       "      <td>174</td>\n",
       "      <td>78</td>\n",
       "      <td>B型</td>\n",
       "      <td>右右</td>\n",
       "      <td>大阪</td>\n",
       "      <td>8400</td>\n",
       "    </tr>\n",
       "    <tr>\n",
       "      <th>3</th>\n",
       "      <td>2</td>\n",
       "      <td>ロペス</td>\n",
       "      <td>内野手</td>\n",
       "      <td>1983/11/24</td>\n",
       "      <td>36</td>\n",
       "      <td>7</td>\n",
       "      <td>183</td>\n",
       "      <td>103</td>\n",
       "      <td>不明</td>\n",
       "      <td>右右</td>\n",
       "      <td>ベネズエラ</td>\n",
       "      <td>23000</td>\n",
       "    </tr>\n",
       "    <tr>\n",
       "      <th>4</th>\n",
       "      <td>3</td>\n",
       "      <td>梶谷　隆幸</td>\n",
       "      <td>外野手</td>\n",
       "      <td>1988/08/28</td>\n",
       "      <td>31</td>\n",
       "      <td>13</td>\n",
       "      <td>180</td>\n",
       "      <td>85</td>\n",
       "      <td>A型</td>\n",
       "      <td>右左</td>\n",
       "      <td>島根</td>\n",
       "      <td>9600</td>\n",
       "    </tr>\n",
       "  </tbody>\n",
       "</table>\n",
       "</div>"
      ],
      "text/plain": [
       "   No.    選手名   守備        生年月日  年齢  年数   身長   体重 血液型  投打    出身地 年俸(推定)\n",
       "0    0  宮本　秀明  外野手  1996/07/24  23   2  178   83  O型  右左     熊本    850\n",
       "1    0  中井　大介  内野手  1989/11/27  30  12  183   88  B型  右右     三重   1200\n",
       "2    1  桑原　将志  外野手  1993/07/21  26   8  174   78  B型  右右     大阪   8400\n",
       "3    2    ロペス  内野手  1983/11/24  36   7  183  103  不明  右右  ベネズエラ  23000\n",
       "4    3  梶谷　隆幸  外野手  1988/08/28  31  13  180   85  A型  右左     島根   9600"
      ]
     },
     "execution_count": 31,
     "metadata": {},
     "output_type": "execute_result"
    }
   ],
   "source": [
    "data.head()"
   ]
  },
  {
   "cell_type": "markdown",
   "metadata": {},
   "source": [
    "# いい感じですね。\n",
    "# 保存して完成です。"
   ]
  },
  {
   "cell_type": "code",
   "execution_count": 35,
   "metadata": {},
   "outputs": [],
   "source": [
    "# indexはいらないので、indexの引数をFalseにしておくと良いでしょう\n",
    "data.to_csv('output.csv',index=False)\n"
   ]
  },
  {
   "cell_type": "markdown",
   "metadata": {},
   "source": [
    "# 行う処理は決まっているので関数にして、例外処理で各チームのURLにスクレイピングをかけてデータ保存してしまいましょう。"
   ]
  },
  {
   "cell_type": "code",
   "execution_count": 53,
   "metadata": {},
   "outputs": [],
   "source": [
    "def ScrapingProfileData(url,team_initial):\n",
    "    \"\"\"プロフィールデータをスクレイピングする関数\"\"\"\n",
    "    data = pd.read_html(url)\n",
    "    data = data[0]\n",
    "    data['年俸(推定)'] = data['年俸(推定)'].str.replace('万円','')\n",
    "    data['年俸(推定)'] = data['年俸(推定)'].str.replace(',','')\n",
    "    data['身長'] = data['身長'].str.replace('cm','')\n",
    "    data['年数'] = data['年数'].str.replace('年','')\n",
    "    data['体重'] = data['体重'].str.replace('kg','')\n",
    "    data.to_csv('output_' + str(team_initial) + '.csv',index=False)\n",
    "    "
   ]
  },
  {
   "cell_type": "markdown",
   "metadata": {},
   "source": [
    "#  10行でできてしまいました！！！"
   ]
  },
  {
   "cell_type": "code",
   "execution_count": 54,
   "metadata": {},
   "outputs": [
    {
     "name": "stdout",
     "output_type": "stream",
     "text": [
      "https://baseball-data.com//player/g/\n",
      "https://baseball-data.com//player/yb/\n",
      "https://baseball-data.com//player/t/\n",
      "https://baseball-data.com//player/c/\n",
      "https://baseball-data.com//player/d/\n",
      "https://baseball-data.com//player/s/\n",
      "https://baseball-data.com//player/l/\n",
      "https://baseball-data.com//player/h/\n",
      "https://baseball-data.com//player/e/\n",
      "https://baseball-data.com//player/m/\n",
      "https://baseball-data.com//player/f/\n",
      "https://baseball-data.com//player/bs/\n"
     ]
    }
   ],
   "source": [
    "import pandas as pd\n",
    "import time\n",
    "if __name__ == \"__main__\":\n",
    "    #urlのパターンがチームのイニシャルになっていますので、リストを作っていきます\n",
    "    name_list = ['g','yb','t','c','d','s','l','h','e','m','f','bs']\n",
    "    #基礎となるurlを用意します。\n",
    "    url_base = 'https://baseball-data.com//player/'\n",
    "    #基礎となるurlに各チームのページに移れるようにname_listの文字をくっつけてurlを作ります。\n",
    "    for team_initial in name_list:\n",
    "        try:\n",
    "            url = url_base + str(team_initial) +'/'\n",
    "            print(url)\n",
    "            ScrapingProfileData(url,team_initial)\n",
    "            #不正アクセスと間違えられないために間隔をあけましょう。\n",
    "            time.sleep(1)\n",
    "        except:\n",
    "            print('error')\n",
    "    print('scraping_end')\n",
    "    "
   ]
  },
  {
   "cell_type": "markdown",
   "metadata": {},
   "source": [
    "# 最後に確認をしてみましょう"
   ]
  },
  {
   "cell_type": "code",
   "execution_count": 55,
   "metadata": {},
   "outputs": [],
   "source": [
    "test = pd.read_csv('output_g.csv')"
   ]
  },
  {
   "cell_type": "code",
   "execution_count": 56,
   "metadata": {},
   "outputs": [
    {
     "data": {
      "text/html": [
       "<div>\n",
       "<style scoped>\n",
       "    .dataframe tbody tr th:only-of-type {\n",
       "        vertical-align: middle;\n",
       "    }\n",
       "\n",
       "    .dataframe tbody tr th {\n",
       "        vertical-align: top;\n",
       "    }\n",
       "\n",
       "    .dataframe thead th {\n",
       "        text-align: right;\n",
       "    }\n",
       "</style>\n",
       "<table border=\"1\" class=\"dataframe\">\n",
       "  <thead>\n",
       "    <tr style=\"text-align: right;\">\n",
       "      <th></th>\n",
       "      <th>No.</th>\n",
       "      <th>選手名</th>\n",
       "      <th>守備</th>\n",
       "      <th>生年月日</th>\n",
       "      <th>年齢</th>\n",
       "      <th>年数</th>\n",
       "      <th>身長</th>\n",
       "      <th>体重</th>\n",
       "      <th>血液型</th>\n",
       "      <th>投打</th>\n",
       "      <th>出身地</th>\n",
       "      <th>年俸(推定)</th>\n",
       "    </tr>\n",
       "  </thead>\n",
       "  <tbody>\n",
       "    <tr>\n",
       "      <th>0</th>\n",
       "      <td>0</td>\n",
       "      <td>吉川　大幾</td>\n",
       "      <td>内野手</td>\n",
       "      <td>1992/08/21</td>\n",
       "      <td>27歳</td>\n",
       "      <td>10</td>\n",
       "      <td>175</td>\n",
       "      <td>78</td>\n",
       "      <td>A型</td>\n",
       "      <td>右右</td>\n",
       "      <td>大阪</td>\n",
       "      <td>1600</td>\n",
       "    </tr>\n",
       "    <tr>\n",
       "      <th>1</th>\n",
       "      <td>0</td>\n",
       "      <td>増田　大輝</td>\n",
       "      <td>内野手</td>\n",
       "      <td>1993/07/29</td>\n",
       "      <td>26歳</td>\n",
       "      <td>5</td>\n",
       "      <td>172</td>\n",
       "      <td>68</td>\n",
       "      <td>A型</td>\n",
       "      <td>右右</td>\n",
       "      <td>徳島</td>\n",
       "      <td>1500</td>\n",
       "    </tr>\n",
       "    <tr>\n",
       "      <th>2</th>\n",
       "      <td>1</td>\n",
       "      <td>比嘉　賢伸</td>\n",
       "      <td>内野手</td>\n",
       "      <td>2000/01/12</td>\n",
       "      <td>20歳</td>\n",
       "      <td>3</td>\n",
       "      <td>180</td>\n",
       "      <td>82</td>\n",
       "      <td>A型</td>\n",
       "      <td>右左</td>\n",
       "      <td>大阪</td>\n",
       "      <td>270</td>\n",
       "    </tr>\n",
       "    <tr>\n",
       "      <th>3</th>\n",
       "      <td>2</td>\n",
       "      <td>陽　岱鋼</td>\n",
       "      <td>外野手</td>\n",
       "      <td>1987/01/17</td>\n",
       "      <td>33歳</td>\n",
       "      <td>15</td>\n",
       "      <td>184</td>\n",
       "      <td>89</td>\n",
       "      <td>A型</td>\n",
       "      <td>右右</td>\n",
       "      <td>台湾</td>\n",
       "      <td>30000</td>\n",
       "    </tr>\n",
       "    <tr>\n",
       "      <th>4</th>\n",
       "      <td>2</td>\n",
       "      <td>平間　隼人</td>\n",
       "      <td>内野手</td>\n",
       "      <td>1996/12/16</td>\n",
       "      <td>23歳</td>\n",
       "      <td>1</td>\n",
       "      <td>173</td>\n",
       "      <td>75</td>\n",
       "      <td>A型</td>\n",
       "      <td>右左</td>\n",
       "      <td>徳島</td>\n",
       "      <td>240</td>\n",
       "    </tr>\n",
       "  </tbody>\n",
       "</table>\n",
       "</div>"
      ],
      "text/plain": [
       "   No.    選手名   守備        生年月日   年齢  年数   身長  体重 血液型  投打 出身地  年俸(推定)\n",
       "0    0  吉川　大幾  内野手  1992/08/21  27歳  10  175  78  A型  右右  大阪    1600\n",
       "1    0  増田　大輝  内野手  1993/07/29  26歳   5  172  68  A型  右右  徳島    1500\n",
       "2    1  比嘉　賢伸  内野手  2000/01/12  20歳   3  180  82  A型  右左  大阪     270\n",
       "3    2   陽　岱鋼  外野手  1987/01/17  33歳  15  184  89  A型  右右  台湾   30000\n",
       "4    2  平間　隼人  内野手  1996/12/16  23歳   1  173  75  A型  右左  徳島     240"
      ]
     },
     "execution_count": 56,
     "metadata": {},
     "output_type": "execute_result"
    }
   ],
   "source": [
    "test.head()"
   ]
  },
  {
   "cell_type": "code",
   "execution_count": null,
   "metadata": {},
   "outputs": [],
   "source": []
  }
 ],
 "metadata": {
  "kernelspec": {
   "display_name": "Python 3",
   "language": "python",
   "name": "python3"
  },
  "language_info": {
   "codemirror_mode": {
    "name": "ipython",
    "version": 3
   },
   "file_extension": ".py",
   "mimetype": "text/x-python",
   "name": "python",
   "nbconvert_exporter": "python",
   "pygments_lexer": "ipython3",
   "version": "3.7.1"
  }
 },
 "nbformat": 4,
 "nbformat_minor": 2
}

{
 "cells": [
  {
   "cell_type": "code",
   "execution_count": 1,
   "metadata": {},
   "outputs": [],
   "source": [
    "import ProfessionalBaseballAnalytics as PBA"
   ]
  },
  {
   "cell_type": "code",
   "execution_count": 2,
   "metadata": {},
   "outputs": [],
   "source": [
    "data = PBA.pd.read_html('https://baseball.yahoo.co.jp/npb/player/1700130/year')"
   ]
  },
  {
   "cell_type": "code",
   "execution_count": 3,
   "metadata": {},
   "outputs": [
    {
     "data": {
      "text/html": [
       "<div>\n",
       "<style scoped>\n",
       "    .dataframe tbody tr th:only-of-type {\n",
       "        vertical-align: middle;\n",
       "    }\n",
       "\n",
       "    .dataframe tbody tr th {\n",
       "        vertical-align: top;\n",
       "    }\n",
       "\n",
       "    .dataframe thead th {\n",
       "        text-align: right;\n",
       "    }\n",
       "</style>\n",
       "<table border=\"1\" class=\"dataframe\">\n",
       "  <thead>\n",
       "    <tr style=\"text-align: right;\">\n",
       "      <th></th>\n",
       "      <th>年度</th>\n",
       "      <th>チ|ム</th>\n",
       "      <th>防御率</th>\n",
       "      <th>登板</th>\n",
       "      <th>先発</th>\n",
       "      <th>完投</th>\n",
       "      <th>完封</th>\n",
       "      <th>無四球</th>\n",
       "      <th>交代完了</th>\n",
       "      <th>勝利</th>\n",
       "      <th>...</th>\n",
       "      <th>被本塁打</th>\n",
       "      <th>奪三振</th>\n",
       "      <th>奪三振率</th>\n",
       "      <th>与四球</th>\n",
       "      <th>与死球</th>\n",
       "      <th>暴投</th>\n",
       "      <th>ボ|ク</th>\n",
       "      <th>失点</th>\n",
       "      <th>自責点</th>\n",
       "      <th>被打率</th>\n",
       "    </tr>\n",
       "  </thead>\n",
       "  <tbody>\n",
       "    <tr>\n",
       "      <th>0</th>\n",
       "      <td>2018</td>\n",
       "      <td>ソフトバンク</td>\n",
       "      <td>3.00</td>\n",
       "      <td>12</td>\n",
       "      <td>3</td>\n",
       "      <td>0</td>\n",
       "      <td>0</td>\n",
       "      <td>0</td>\n",
       "      <td>2</td>\n",
       "      <td>0</td>\n",
       "      <td>...</td>\n",
       "      <td>2</td>\n",
       "      <td>15</td>\n",
       "      <td>4.50</td>\n",
       "      <td>13</td>\n",
       "      <td>4</td>\n",
       "      <td>0</td>\n",
       "      <td>0</td>\n",
       "      <td>10</td>\n",
       "      <td>10</td>\n",
       "      <td>0.219</td>\n",
       "    </tr>\n",
       "    <tr>\n",
       "      <th>1</th>\n",
       "      <td>2019</td>\n",
       "      <td>ソフトバンク</td>\n",
       "      <td>3.34</td>\n",
       "      <td>23</td>\n",
       "      <td>23</td>\n",
       "      <td>0</td>\n",
       "      <td>0</td>\n",
       "      <td>0</td>\n",
       "      <td>0</td>\n",
       "      <td>12</td>\n",
       "      <td>...</td>\n",
       "      <td>10</td>\n",
       "      <td>73</td>\n",
       "      <td>4.59</td>\n",
       "      <td>49</td>\n",
       "      <td>11</td>\n",
       "      <td>3</td>\n",
       "      <td>1</td>\n",
       "      <td>56</td>\n",
       "      <td>53</td>\n",
       "      <td>0.222</td>\n",
       "    </tr>\n",
       "    <tr>\n",
       "      <th>2</th>\n",
       "      <td>通算成績</td>\n",
       "      <td>通算成績</td>\n",
       "      <td>3.28</td>\n",
       "      <td>35</td>\n",
       "      <td>26</td>\n",
       "      <td>0</td>\n",
       "      <td>0</td>\n",
       "      <td>0</td>\n",
       "      <td>2</td>\n",
       "      <td>12</td>\n",
       "      <td>...</td>\n",
       "      <td>12</td>\n",
       "      <td>88</td>\n",
       "      <td>4.58</td>\n",
       "      <td>62</td>\n",
       "      <td>15</td>\n",
       "      <td>3</td>\n",
       "      <td>1</td>\n",
       "      <td>66</td>\n",
       "      <td>63</td>\n",
       "      <td>0.221</td>\n",
       "    </tr>\n",
       "  </tbody>\n",
       "</table>\n",
       "<p>3 rows × 28 columns</p>\n",
       "</div>"
      ],
      "text/plain": [
       "     年度     チ|ム   防御率  登板  先発  完投  完封  無四球  交代完了  勝利  ...  被本塁打  奪三振  奪三振率  \\\n",
       "0  2018  ソフトバンク  3.00  12   3   0   0    0     2   0  ...     2   15  4.50   \n",
       "1  2019  ソフトバンク  3.34  23  23   0   0    0     0  12  ...    10   73  4.59   \n",
       "2  通算成績    通算成績  3.28  35  26   0   0    0     2  12  ...    12   88  4.58   \n",
       "\n",
       "   与四球  与死球  暴投  ボ|ク  失点  自責点    被打率  \n",
       "0   13    4   0    0  10   10  0.219  \n",
       "1   49   11   3    1  56   53  0.222  \n",
       "2   62   15   3    1  66   63  0.221  \n",
       "\n",
       "[3 rows x 28 columns]"
      ]
     },
     "execution_count": 3,
     "metadata": {},
     "output_type": "execute_result"
    }
   ],
   "source": [
    "data[1]"
   ]
  },
  {
   "cell_type": "code",
   "execution_count": 4,
   "metadata": {},
   "outputs": [],
   "source": [
    "rei_takahashi = data[1]"
   ]
  },
  {
   "cell_type": "code",
   "execution_count": 5,
   "metadata": {},
   "outputs": [
    {
     "data": {
      "text/html": [
       "<div>\n",
       "<style scoped>\n",
       "    .dataframe tbody tr th:only-of-type {\n",
       "        vertical-align: middle;\n",
       "    }\n",
       "\n",
       "    .dataframe tbody tr th {\n",
       "        vertical-align: top;\n",
       "    }\n",
       "\n",
       "    .dataframe thead th {\n",
       "        text-align: right;\n",
       "    }\n",
       "</style>\n",
       "<table border=\"1\" class=\"dataframe\">\n",
       "  <thead>\n",
       "    <tr style=\"text-align: right;\">\n",
       "      <th></th>\n",
       "      <th>年度</th>\n",
       "      <th>チ|ム</th>\n",
       "      <th>防御率</th>\n",
       "      <th>登板</th>\n",
       "      <th>先発</th>\n",
       "      <th>完投</th>\n",
       "      <th>完封</th>\n",
       "      <th>無四球</th>\n",
       "      <th>交代完了</th>\n",
       "      <th>勝利</th>\n",
       "      <th>...</th>\n",
       "      <th>被本塁打</th>\n",
       "      <th>奪三振</th>\n",
       "      <th>奪三振率</th>\n",
       "      <th>与四球</th>\n",
       "      <th>与死球</th>\n",
       "      <th>暴投</th>\n",
       "      <th>ボ|ク</th>\n",
       "      <th>失点</th>\n",
       "      <th>自責点</th>\n",
       "      <th>被打率</th>\n",
       "    </tr>\n",
       "  </thead>\n",
       "  <tbody>\n",
       "    <tr>\n",
       "      <th>0</th>\n",
       "      <td>2018</td>\n",
       "      <td>ソフトバンク</td>\n",
       "      <td>3.00</td>\n",
       "      <td>12</td>\n",
       "      <td>3</td>\n",
       "      <td>0</td>\n",
       "      <td>0</td>\n",
       "      <td>0</td>\n",
       "      <td>2</td>\n",
       "      <td>0</td>\n",
       "      <td>...</td>\n",
       "      <td>2</td>\n",
       "      <td>15</td>\n",
       "      <td>4.50</td>\n",
       "      <td>13</td>\n",
       "      <td>4</td>\n",
       "      <td>0</td>\n",
       "      <td>0</td>\n",
       "      <td>10</td>\n",
       "      <td>10</td>\n",
       "      <td>0.219</td>\n",
       "    </tr>\n",
       "    <tr>\n",
       "      <th>1</th>\n",
       "      <td>2019</td>\n",
       "      <td>ソフトバンク</td>\n",
       "      <td>3.34</td>\n",
       "      <td>23</td>\n",
       "      <td>23</td>\n",
       "      <td>0</td>\n",
       "      <td>0</td>\n",
       "      <td>0</td>\n",
       "      <td>0</td>\n",
       "      <td>12</td>\n",
       "      <td>...</td>\n",
       "      <td>10</td>\n",
       "      <td>73</td>\n",
       "      <td>4.59</td>\n",
       "      <td>49</td>\n",
       "      <td>11</td>\n",
       "      <td>3</td>\n",
       "      <td>1</td>\n",
       "      <td>56</td>\n",
       "      <td>53</td>\n",
       "      <td>0.222</td>\n",
       "    </tr>\n",
       "    <tr>\n",
       "      <th>2</th>\n",
       "      <td>通算成績</td>\n",
       "      <td>通算成績</td>\n",
       "      <td>3.28</td>\n",
       "      <td>35</td>\n",
       "      <td>26</td>\n",
       "      <td>0</td>\n",
       "      <td>0</td>\n",
       "      <td>0</td>\n",
       "      <td>2</td>\n",
       "      <td>12</td>\n",
       "      <td>...</td>\n",
       "      <td>12</td>\n",
       "      <td>88</td>\n",
       "      <td>4.58</td>\n",
       "      <td>62</td>\n",
       "      <td>15</td>\n",
       "      <td>3</td>\n",
       "      <td>1</td>\n",
       "      <td>66</td>\n",
       "      <td>63</td>\n",
       "      <td>0.221</td>\n",
       "    </tr>\n",
       "  </tbody>\n",
       "</table>\n",
       "<p>3 rows × 28 columns</p>\n",
       "</div>"
      ],
      "text/plain": [
       "     年度     チ|ム   防御率  登板  先発  完投  完封  無四球  交代完了  勝利  ...  被本塁打  奪三振  奪三振率  \\\n",
       "0  2018  ソフトバンク  3.00  12   3   0   0    0     2   0  ...     2   15  4.50   \n",
       "1  2019  ソフトバンク  3.34  23  23   0   0    0     0  12  ...    10   73  4.59   \n",
       "2  通算成績    通算成績  3.28  35  26   0   0    0     2  12  ...    12   88  4.58   \n",
       "\n",
       "   与四球  与死球  暴投  ボ|ク  失点  自責点    被打率  \n",
       "0   13    4   0    0  10   10  0.219  \n",
       "1   49   11   3    1  56   53  0.222  \n",
       "2   62   15   3    1  66   63  0.221  \n",
       "\n",
       "[3 rows x 28 columns]"
      ]
     },
     "execution_count": 5,
     "metadata": {},
     "output_type": "execute_result"
    }
   ],
   "source": [
    "rei_takahashi"
   ]
  },
  {
   "cell_type": "code",
   "execution_count": 6,
   "metadata": {},
   "outputs": [
    {
     "data": {
      "text/plain": [
       "Index(['年度', 'チ|ム', '防御率', '登板', '先発', '完投', '完封', '無四球', '交代完了', '勝利', '敗戦',\n",
       "       'ホ|ルド', 'HP', 'セ|ブ', '勝率', '投球回', '打者', '被安打', '被本塁打', '奪三振', '奪三振率',\n",
       "       '与四球', '与死球', '暴投', 'ボ|ク', '失点', '自責点', '被打率'],\n",
       "      dtype='object')"
      ]
     },
     "execution_count": 6,
     "metadata": {},
     "output_type": "execute_result"
    }
   ],
   "source": [
    "rei_takahashi.columns"
   ]
  },
  {
   "cell_type": "code",
   "execution_count": 7,
   "metadata": {},
   "outputs": [
    {
     "name": "stdout",
     "output_type": "stream",
     "text": [
      "key error exception\n",
      "計算終了\n"
     ]
    }
   ],
   "source": [
    "data = PBA.CyberMetricsPitcher(rei_takahashi)"
   ]
  },
  {
   "cell_type": "code",
   "execution_count": 8,
   "metadata": {},
   "outputs": [],
   "source": [
    "data_year = data[0:2]"
   ]
  },
  {
   "cell_type": "code",
   "execution_count": 9,
   "metadata": {},
   "outputs": [
    {
     "data": {
      "text/html": [
       "<div>\n",
       "<style scoped>\n",
       "    .dataframe tbody tr th:only-of-type {\n",
       "        vertical-align: middle;\n",
       "    }\n",
       "\n",
       "    .dataframe tbody tr th {\n",
       "        vertical-align: top;\n",
       "    }\n",
       "\n",
       "    .dataframe thead th {\n",
       "        text-align: right;\n",
       "    }\n",
       "</style>\n",
       "<table border=\"1\" class=\"dataframe\">\n",
       "  <thead>\n",
       "    <tr style=\"text-align: right;\">\n",
       "      <th></th>\n",
       "      <th>年度</th>\n",
       "      <th>チ|ム</th>\n",
       "      <th>防御率</th>\n",
       "      <th>登板</th>\n",
       "      <th>先発</th>\n",
       "      <th>完投</th>\n",
       "      <th>完封</th>\n",
       "      <th>無四球</th>\n",
       "      <th>交代完了</th>\n",
       "      <th>勝利</th>\n",
       "      <th>...</th>\n",
       "      <th>失点</th>\n",
       "      <th>自責点</th>\n",
       "      <th>被打率</th>\n",
       "      <th>FIP</th>\n",
       "      <th>LOB</th>\n",
       "      <th>BB/9</th>\n",
       "      <th>HR/9</th>\n",
       "      <th>WHIP</th>\n",
       "      <th>K/BB</th>\n",
       "      <th>BABIP</th>\n",
       "    </tr>\n",
       "  </thead>\n",
       "  <tbody>\n",
       "    <tr>\n",
       "      <th>0</th>\n",
       "      <td>2018</td>\n",
       "      <td>ソフトバンク</td>\n",
       "      <td>3.00</td>\n",
       "      <td>12</td>\n",
       "      <td>3</td>\n",
       "      <td>0</td>\n",
       "      <td>0</td>\n",
       "      <td>0</td>\n",
       "      <td>2</td>\n",
       "      <td>0</td>\n",
       "      <td>...</td>\n",
       "      <td>10</td>\n",
       "      <td>10</td>\n",
       "      <td>0.219</td>\n",
       "      <td>4.686667</td>\n",
       "      <td>0.806452</td>\n",
       "      <td>3.900000</td>\n",
       "      <td>0.600000</td>\n",
       "      <td>1.20000</td>\n",
       "      <td>1.153846</td>\n",
       "      <td>0.198113</td>\n",
       "    </tr>\n",
       "    <tr>\n",
       "      <th>1</th>\n",
       "      <td>2019</td>\n",
       "      <td>ソフトバンク</td>\n",
       "      <td>3.34</td>\n",
       "      <td>23</td>\n",
       "      <td>23</td>\n",
       "      <td>0</td>\n",
       "      <td>0</td>\n",
       "      <td>0</td>\n",
       "      <td>0</td>\n",
       "      <td>12</td>\n",
       "      <td>...</td>\n",
       "      <td>56</td>\n",
       "      <td>53</td>\n",
       "      <td>0.222</td>\n",
       "      <td>4.266853</td>\n",
       "      <td>0.737500</td>\n",
       "      <td>3.083916</td>\n",
       "      <td>0.629371</td>\n",
       "      <td>1.13986</td>\n",
       "      <td>1.489796</td>\n",
       "      <td>0.207585</td>\n",
       "    </tr>\n",
       "  </tbody>\n",
       "</table>\n",
       "<p>2 rows × 35 columns</p>\n",
       "</div>"
      ],
      "text/plain": [
       "     年度     チ|ム   防御率  登板  先発  完投  完封  無四球  交代完了  勝利  ...  失点  自責点    被打率  \\\n",
       "0  2018  ソフトバンク  3.00  12   3   0   0    0     2   0  ...  10   10  0.219   \n",
       "1  2019  ソフトバンク  3.34  23  23   0   0    0     0  12  ...  56   53  0.222   \n",
       "\n",
       "        FIP       LOB      BB/9      HR/9     WHIP      K/BB     BABIP  \n",
       "0  4.686667  0.806452  3.900000  0.600000  1.20000  1.153846  0.198113  \n",
       "1  4.266853  0.737500  3.083916  0.629371  1.13986  1.489796  0.207585  \n",
       "\n",
       "[2 rows x 35 columns]"
      ]
     },
     "execution_count": 9,
     "metadata": {},
     "output_type": "execute_result"
    }
   ],
   "source": [
    "data_year "
   ]
  },
  {
   "cell_type": "code",
   "execution_count": 10,
   "metadata": {},
   "outputs": [],
   "source": [
    "data_total = data[2:]"
   ]
  },
  {
   "cell_type": "code",
   "execution_count": 11,
   "metadata": {},
   "outputs": [],
   "source": [
    "data_total = data_total.reset_index(drop=True)"
   ]
  },
  {
   "cell_type": "code",
   "execution_count": 20,
   "metadata": {},
   "outputs": [],
   "source": [
    "data.to_csv('rei_takahashi.csv',index=False)"
   ]
  },
  {
   "cell_type": "code",
   "execution_count": 13,
   "metadata": {},
   "outputs": [
    {
     "data": {
      "text/plain": [
       "Index(['年度', 'チ|ム', '防御率', '登板', '先発', '完投', '完封', '無四球', '交代完了', '勝利', '敗戦',\n",
       "       'ホ|ルド', 'HP', 'セ|ブ', '勝率', '投球回', '打者', '被安打', '被本塁打', '奪三振', '奪三振率',\n",
       "       '与四球', '与死球', '暴投', 'ボ|ク', '失点', '自責点', '被打率', 'FIP', 'LOB', 'BB/9',\n",
       "       'HR/9', 'WHIP', 'K/BB'],\n",
       "      dtype='object')"
      ]
     },
     "execution_count": 13,
     "metadata": {},
     "output_type": "execute_result"
    }
   ],
   "source": [
    "data_year.columns"
   ]
  },
  {
   "cell_type": "code",
   "execution_count": 15,
   "metadata": {},
   "outputs": [],
   "source": [
    "data_year = data_year.set_index('年度')"
   ]
  },
  {
   "cell_type": "code",
   "execution_count": 16,
   "metadata": {},
   "outputs": [
    {
     "data": {
      "text/html": [
       "<div>\n",
       "<style scoped>\n",
       "    .dataframe tbody tr th:only-of-type {\n",
       "        vertical-align: middle;\n",
       "    }\n",
       "\n",
       "    .dataframe tbody tr th {\n",
       "        vertical-align: top;\n",
       "    }\n",
       "\n",
       "    .dataframe thead th {\n",
       "        text-align: right;\n",
       "    }\n",
       "</style>\n",
       "<table border=\"1\" class=\"dataframe\">\n",
       "  <thead>\n",
       "    <tr style=\"text-align: right;\">\n",
       "      <th></th>\n",
       "      <th>登板</th>\n",
       "      <th>防御率</th>\n",
       "      <th>先発</th>\n",
       "      <th>ホ|ルド</th>\n",
       "      <th>セ|ブ</th>\n",
       "      <th>勝利</th>\n",
       "      <th>敗戦</th>\n",
       "    </tr>\n",
       "    <tr>\n",
       "      <th>年度</th>\n",
       "      <th></th>\n",
       "      <th></th>\n",
       "      <th></th>\n",
       "      <th></th>\n",
       "      <th></th>\n",
       "      <th></th>\n",
       "      <th></th>\n",
       "    </tr>\n",
       "  </thead>\n",
       "  <tbody>\n",
       "    <tr>\n",
       "      <th>2018</th>\n",
       "      <td>12</td>\n",
       "      <td>3.00</td>\n",
       "      <td>3</td>\n",
       "      <td>0</td>\n",
       "      <td>0</td>\n",
       "      <td>0</td>\n",
       "      <td>1</td>\n",
       "    </tr>\n",
       "    <tr>\n",
       "      <th>2019</th>\n",
       "      <td>23</td>\n",
       "      <td>3.34</td>\n",
       "      <td>23</td>\n",
       "      <td>0</td>\n",
       "      <td>0</td>\n",
       "      <td>12</td>\n",
       "      <td>6</td>\n",
       "    </tr>\n",
       "  </tbody>\n",
       "</table>\n",
       "</div>"
      ],
      "text/plain": [
       "      登板   防御率  先発  ホ|ルド  セ|ブ  勝利  敗戦\n",
       "年度                                   \n",
       "2018  12  3.00   3     0    0   0   1\n",
       "2019  23  3.34  23     0    0  12   6"
      ]
     },
     "execution_count": 16,
     "metadata": {},
     "output_type": "execute_result"
    }
   ],
   "source": [
    "data_year[['登板','防御率','先発','ホ|ルド','セ|ブ','勝利','敗戦']]"
   ]
  },
  {
   "cell_type": "code",
   "execution_count": 17,
   "metadata": {},
   "outputs": [
    {
     "data": {
      "image/png": "[encoded data removed]",
      "text/plain": [
       "<Figure size 720x720 with 7 Axes>"
      ]
     },
     "metadata": {
      "needs_background": "light"
     },
     "output_type": "display_data"
    }
   ],
   "source": [
    "data_year[['登板','防御率','先発','ホ|ルド','セ|ブ','勝利','敗戦']].plot.bar(subplots=True,figsize=(10,10))\n",
    "\n",
    "PBA.plt.savefig('basic.png')"
   ]
  },
  {
   "cell_type": "code",
   "execution_count": 25,
   "metadata": {},
   "outputs": [
    {
     "data": {
      "image/png": "[encoded data removed]",
      "text/plain": [
       "<Figure size 720x720 with 7 Axes>"
      ]
     },
     "metadata": {
      "needs_background": "light"
     },
     "output_type": "display_data"
    }
   ],
   "source": [
    "data_year[['FIP', 'LOB','BB/9','HR/9', 'WHIP', 'K/BB','BABIP']].plot(subplots=True,kind='bar',figsize=(10,10),ylim=0)\n",
    "\n",
    "PBA.plt.savefig('rei_takahashi_metrics.png')"
   ]
  },
  {
   "cell_type": "code",
   "execution_count": 21,
   "metadata": {},
   "outputs": [
    {
     "name": "stdout",
     "output_type": "stream",
     "text": [
      "           FIP       LOB      BB/9      HR/9     WHIP      K/BB     BABIP\n",
      "年度                                                                       \n",
      "2018  4.686667  0.806452  3.900000  0.600000  1.20000  1.153846  0.198113\n",
      "2019  4.266853  0.737500  3.083916  0.629371  1.13986  1.489796  0.207585\n"
     ]
    }
   ],
   "source": [
    "print(data_year[['FIP', 'LOB', 'BB/9','HR/9', 'WHIP', 'K/BB','BABIP']])"
   ]
  },
  {
   "cell_type": "code",
   "execution_count": 13,
   "metadata": {},
   "outputs": [],
   "source": [
    "conf = PBA.pd.read_csv('rei_takahashi.csv')"
   ]
  },
  {
   "cell_type": "code",
   "execution_count": 14,
   "metadata": {},
   "outputs": [
    {
     "data": {
      "text/html": [
       "<div>\n",
       "<style scoped>\n",
       "    .dataframe tbody tr th:only-of-type {\n",
       "        vertical-align: middle;\n",
       "    }\n",
       "\n",
       "    .dataframe tbody tr th {\n",
       "        vertical-align: top;\n",
       "    }\n",
       "\n",
       "    .dataframe thead th {\n",
       "        text-align: right;\n",
       "    }\n",
       "</style>\n",
       "<table border=\"1\" class=\"dataframe\">\n",
       "  <thead>\n",
       "    <tr style=\"text-align: right;\">\n",
       "      <th></th>\n",
       "      <th>年度</th>\n",
       "      <th>チ|ム</th>\n",
       "      <th>防御率</th>\n",
       "      <th>登板</th>\n",
       "      <th>先発</th>\n",
       "      <th>完投</th>\n",
       "      <th>完封</th>\n",
       "      <th>無四球</th>\n",
       "      <th>交代完了</th>\n",
       "      <th>勝利</th>\n",
       "      <th>...</th>\n",
       "      <th>ボ|ク</th>\n",
       "      <th>失点</th>\n",
       "      <th>自責点</th>\n",
       "      <th>被打率</th>\n",
       "      <th>FIP</th>\n",
       "      <th>LOB</th>\n",
       "      <th>BB/9</th>\n",
       "      <th>HR/9</th>\n",
       "      <th>WHIP</th>\n",
       "      <th>K/BB</th>\n",
       "    </tr>\n",
       "  </thead>\n",
       "  <tbody>\n",
       "    <tr>\n",
       "      <th>0</th>\n",
       "      <td>2018</td>\n",
       "      <td>ソフトバンク</td>\n",
       "      <td>3.00</td>\n",
       "      <td>12</td>\n",
       "      <td>3</td>\n",
       "      <td>0</td>\n",
       "      <td>0</td>\n",
       "      <td>0</td>\n",
       "      <td>2</td>\n",
       "      <td>0</td>\n",
       "      <td>...</td>\n",
       "      <td>0</td>\n",
       "      <td>10</td>\n",
       "      <td>10</td>\n",
       "      <td>0.219</td>\n",
       "      <td>4.686667</td>\n",
       "      <td>0.806452</td>\n",
       "      <td>3.900000</td>\n",
       "      <td>0.600000</td>\n",
       "      <td>1.200000</td>\n",
       "      <td>1.153846</td>\n",
       "    </tr>\n",
       "    <tr>\n",
       "      <th>1</th>\n",
       "      <td>2019</td>\n",
       "      <td>ソフトバンク</td>\n",
       "      <td>3.34</td>\n",
       "      <td>23</td>\n",
       "      <td>23</td>\n",
       "      <td>0</td>\n",
       "      <td>0</td>\n",
       "      <td>0</td>\n",
       "      <td>0</td>\n",
       "      <td>12</td>\n",
       "      <td>...</td>\n",
       "      <td>1</td>\n",
       "      <td>56</td>\n",
       "      <td>53</td>\n",
       "      <td>0.222</td>\n",
       "      <td>4.266853</td>\n",
       "      <td>0.737500</td>\n",
       "      <td>3.083916</td>\n",
       "      <td>0.629371</td>\n",
       "      <td>1.139860</td>\n",
       "      <td>1.489796</td>\n",
       "    </tr>\n",
       "    <tr>\n",
       "      <th>2</th>\n",
       "      <td>通算成績</td>\n",
       "      <td>通算成績</td>\n",
       "      <td>3.28</td>\n",
       "      <td>35</td>\n",
       "      <td>26</td>\n",
       "      <td>0</td>\n",
       "      <td>0</td>\n",
       "      <td>0</td>\n",
       "      <td>2</td>\n",
       "      <td>12</td>\n",
       "      <td>...</td>\n",
       "      <td>1</td>\n",
       "      <td>66</td>\n",
       "      <td>63</td>\n",
       "      <td>0.221</td>\n",
       "      <td>4.339653</td>\n",
       "      <td>0.750507</td>\n",
       "      <td>3.225434</td>\n",
       "      <td>0.624277</td>\n",
       "      <td>1.150289</td>\n",
       "      <td>1.419355</td>\n",
       "    </tr>\n",
       "  </tbody>\n",
       "</table>\n",
       "<p>3 rows × 34 columns</p>\n",
       "</div>"
      ],
      "text/plain": [
       "     年度     チ|ム   防御率  登板  先発  完投  完封  無四球  交代完了  勝利  ...  ボ|ク  失点  自責点  \\\n",
       "0  2018  ソフトバンク  3.00  12   3   0   0    0     2   0  ...    0  10   10   \n",
       "1  2019  ソフトバンク  3.34  23  23   0   0    0     0  12  ...    1  56   53   \n",
       "2  通算成績    通算成績  3.28  35  26   0   0    0     2  12  ...    1  66   63   \n",
       "\n",
       "     被打率       FIP       LOB      BB/9      HR/9      WHIP      K/BB  \n",
       "0  0.219  4.686667  0.806452  3.900000  0.600000  1.200000  1.153846  \n",
       "1  0.222  4.266853  0.737500  3.083916  0.629371  1.139860  1.489796  \n",
       "2  0.221  4.339653  0.750507  3.225434  0.624277  1.150289  1.419355  \n",
       "\n",
       "[3 rows x 34 columns]"
      ]
     },
     "execution_count": 14,
     "metadata": {},
     "output_type": "execute_result"
    }
   ],
   "source": [
    "conf"
   ]
  },
  {
   "cell_type": "code",
   "execution_count": 70,
   "metadata": {},
   "outputs": [
    {
     "data": {
      "text/html": [
       "<div>\n",
       "<style scoped>\n",
       "    .dataframe tbody tr th:only-of-type {\n",
       "        vertical-align: middle;\n",
       "    }\n",
       "\n",
       "    .dataframe tbody tr th {\n",
       "        vertical-align: top;\n",
       "    }\n",
       "\n",
       "    .dataframe thead th {\n",
       "        text-align: right;\n",
       "    }\n",
       "</style>\n",
       "<table border=\"1\" class=\"dataframe\">\n",
       "  <thead>\n",
       "    <tr style=\"text-align: right;\">\n",
       "      <th></th>\n",
       "      <th>登板</th>\n",
       "      <th>防御率</th>\n",
       "      <th>先発</th>\n",
       "      <th>ホ|ルド</th>\n",
       "      <th>セ|ブ</th>\n",
       "      <th>勝利</th>\n",
       "      <th>敗戦</th>\n",
       "    </tr>\n",
       "    <tr>\n",
       "      <th>年度</th>\n",
       "      <th></th>\n",
       "      <th></th>\n",
       "      <th></th>\n",
       "      <th></th>\n",
       "      <th></th>\n",
       "      <th></th>\n",
       "      <th></th>\n",
       "    </tr>\n",
       "  </thead>\n",
       "  <tbody>\n",
       "    <tr>\n",
       "      <th>2018</th>\n",
       "      <td>12</td>\n",
       "      <td>3.00</td>\n",
       "      <td>3</td>\n",
       "      <td>0</td>\n",
       "      <td>0</td>\n",
       "      <td>0</td>\n",
       "      <td>1</td>\n",
       "    </tr>\n",
       "    <tr>\n",
       "      <th>2019</th>\n",
       "      <td>23</td>\n",
       "      <td>3.34</td>\n",
       "      <td>23</td>\n",
       "      <td>0</td>\n",
       "      <td>0</td>\n",
       "      <td>12</td>\n",
       "      <td>6</td>\n",
       "    </tr>\n",
       "  </tbody>\n",
       "</table>\n",
       "</div>"
      ],
      "text/plain": [
       "      登板   防御率  先発  ホ|ルド  セ|ブ  勝利  敗戦\n",
       "年度                                   \n",
       "2018  12  3.00   3     0    0   0   1\n",
       "2019  23  3.34  23     0    0  12   6"
      ]
     },
     "execution_count": 70,
     "metadata": {},
     "output_type": "execute_result"
    }
   ],
   "source": [
    "data_year[['登板','防御率','先発','ホ|ルド','セ|ブ','勝利','敗戦']]"
   ]
  },
  {
   "cell_type": "code",
   "execution_count": 22,
   "metadata": {},
   "outputs": [
    {
     "data": {
      "text/plain": [
       "年度\n",
       "2018    123\n",
       "2019    584\n",
       "Name: 打者, dtype: int64"
      ]
     },
     "execution_count": 22,
     "metadata": {},
     "output_type": "execute_result"
    }
   ],
   "source": [
    "data_year.打者"
   ]
  },
  {
   "cell_type": "code",
   "execution_count": 24,
   "metadata": {},
   "outputs": [
    {
     "data": {
      "image/png": "[encoded data removed]",
      "text/plain": [
       "<Figure size 432x288 with 1 Axes>"
      ]
     },
     "metadata": {
      "needs_background": "light"
     },
     "output_type": "display_data"
    }
   ],
   "source": [
    "data_year['投球回'].plot(kind='bar')\n",
    "PBA.plt.ylabel('投球回')\n",
    "PBA.plt.savefig('ining_p.png')"
   ]
  },
  {
   "cell_type": "code",
   "execution_count": 27,
   "metadata": {},
   "outputs": [
    {
     "data": {
      "text/plain": [
       "年度\n",
       "2018    2.500000\n",
       "2019    6.217391\n",
       "dtype: float64"
      ]
     },
     "execution_count": 27,
     "metadata": {},
     "output_type": "execute_result"
    }
   ],
   "source": [
    "data_year['投球回']/data_year['登板']"
   ]
  },
  {
   "cell_type": "code",
   "execution_count": 30,
   "metadata": {},
   "outputs": [
    {
     "data": {
      "text/plain": [
       "array([<matplotlib.axes._subplots.AxesSubplot object at 0x000002011030B438>,\n",
       "       <matplotlib.axes._subplots.AxesSubplot object at 0x000002010FE994E0>,\n",
       "       <matplotlib.axes._subplots.AxesSubplot object at 0x000002010F9DB400>],\n",
       "      dtype=object)"
      ]
     },
     "execution_count": 30,
     "metadata": {},
     "output_type": "execute_result"
    },
    {
     "data": {
      "image/png": "[encoded data removed]",
      "text/plain": [
       "<Figure size 720x720 with 3 Axes>"
      ]
     },
     "metadata": {
      "needs_background": "light"
     },
     "output_type": "display_data"
    }
   ],
   "source": [
    "data_year[['防御率','FIP','BABIP']].plot(subplots=True,kind='bar',figsize=(10,10),ylim=0)"
   ]
  },
  {
   "cell_type": "code",
   "execution_count": null,
   "metadata": {},
   "outputs": [],
   "source": []
  }
 ],
 "metadata": {
  "kernelspec": {
   "display_name": "Python 3",
   "language": "python",
   "name": "python3"
  },
  "language_info": {
   "codemirror_mode": {
    "name": "ipython",
    "version": 3
   },
   "file_extension": ".py",
   "mimetype": "text/x-python",
   "name": "python",
   "nbconvert_exporter": "python",
   "pygments_lexer": "ipython3",
   "version": "3.7.1"
  }
 },
 "nbformat": 4,
 "nbformat_minor": 2
}

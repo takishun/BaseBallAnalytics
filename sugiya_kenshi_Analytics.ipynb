{
 "cells": [
  {
   "cell_type": "code",
   "execution_count": 2,
   "metadata": {},
   "outputs": [],
   "source": [
    "import pandas as pd\n",
    "import matplotlib as plt\n",
    "import seaborn as sns\n",
    "import ProfessionalBaseballAnalytics as PBA\n",
    "\n",
    "%matplotlib inline"
   ]
  },
  {
   "cell_type": "code",
   "execution_count": 10,
   "metadata": {},
   "outputs": [],
   "source": [
    "import matplotlib.pyplot as plt\n",
    "import numpy as np\n",
    "\n",
    "def plot_polar(labels, values, imgname):\n",
    "    angles = np.linspace(0, 2 * np.pi, len(labels) + 1, endpoint=True)\n",
    "    values = np.concatenate((values, [values[0]]))  # 閉じた多角形にする\n",
    "    fig = plt.figure()\n",
    "    ax = fig.add_subplot(111, polar=True)\n",
    "    ax.plot(angles, values, 'o-')  # 外枠\n",
    "    ax.fill(angles, values, alpha=0.25)  # 塗りつぶし\n",
    "    ax.set_thetagrids(angles[:-1] * 180 / np.pi, labels)  # 軸ラベル\n",
    "    ax.set_rlim(0 ,250)\n",
    "    fig.savefig(imgname)\n",
    "    plt.close(fig)"
   ]
  },
  {
   "cell_type": "code",
   "execution_count": 40,
   "metadata": {},
   "outputs": [],
   "source": [
    "sugiya = pd.read_csv('sugiya_kenshi.csv')"
   ]
  },
  {
   "cell_type": "code",
   "execution_count": 12,
   "metadata": {},
   "outputs": [
    {
     "data": {
      "text/plain": [
       "OPS      0.585333\n",
       "IsoP     0.084889\n",
       "IsoD     0.068444\n",
       "Spd      5.221488\n",
       "簡易RF     1.107777\n",
       "BABIP    0.258232\n",
       "dtype: float64"
      ]
     },
     "execution_count": 12,
     "metadata": {},
     "output_type": "execute_result"
    }
   ],
   "source": [
    "sugiya[['OPS','IsoP','IsoD','Spd','簡易RF','BABIP']].mean()"
   ]
  },
  {
   "cell_type": "code",
   "execution_count": 7,
   "metadata": {},
   "outputs": [],
   "source": [
    "sugiya_mean = sugiya.mean()"
   ]
  },
  {
   "cell_type": "code",
   "execution_count": 9,
   "metadata": {},
   "outputs": [
    {
     "data": {
      "text/plain": [
       "5.221487981217723"
      ]
     },
     "execution_count": 9,
     "metadata": {},
     "output_type": "execute_result"
    }
   ],
   "source": []
  },
  {
   "cell_type": "code",
   "execution_count": 16,
   "metadata": {},
   "outputs": [],
   "source": [
    "import matplotlib.pyplot as plt\n",
    "import numpy as np\n",
    "\n",
    "def plot_polar(labels, values, imgname):\n",
    "    angles = np.linspace(0, 2 * np.pi, len(labels) + 1, endpoint=True)\n",
    "    values = np.concatenate((values, [values[0]]))  # 閉じた多角形にする\n",
    "    fig = plt.figure()\n",
    "    ax = fig.add_subplot(111, polar=True)\n",
    "    ax.plot(angles, values, 'o-')  # 外枠\n",
    "    ax.fill(angles, values, alpha=0.25)  # 塗りつぶし\n",
    "    ax.set_thetagrids(angles[:-1] * 180 / np.pi, labels)  # 軸ラベル\n",
    "    ax.set_rlim(0,5)\n",
    "    fig.savefig(imgname)\n",
    "    plt.close(fig)"
   ]
  },
  {
   "cell_type": "code",
   "execution_count": 36,
   "metadata": {},
   "outputs": [],
   "source": [
    "labels = ['打点', '守備','スピード', '運', 'メンタル']\n",
    "values = [,1,2,1,3]\n",
    "plot_polar(labels, values, \"radar_ave.png\")"
   ]
  },
  {
   "cell_type": "code",
   "execution_count": 42,
   "metadata": {},
   "outputs": [
    {
     "data": {
      "text/html": [
       "<div>\n",
       "<style scoped>\n",
       "    .dataframe tbody tr th:only-of-type {\n",
       "        vertical-align: middle;\n",
       "    }\n",
       "\n",
       "    .dataframe tbody tr th {\n",
       "        vertical-align: top;\n",
       "    }\n",
       "\n",
       "    .dataframe thead th {\n",
       "        text-align: right;\n",
       "    }\n",
       "</style>\n",
       "<table border=\"1\" class=\"dataframe\">\n",
       "  <thead>\n",
       "    <tr style=\"text-align: right;\">\n",
       "      <th></th>\n",
       "      <th>年度</th>\n",
       "      <th>所属球団</th>\n",
       "      <th>試合_x</th>\n",
       "      <th>打席</th>\n",
       "      <th>打数</th>\n",
       "      <th>得点</th>\n",
       "      <th>安打</th>\n",
       "      <th>二塁打</th>\n",
       "      <th>三塁打</th>\n",
       "      <th>本塁打</th>\n",
       "      <th>...</th>\n",
       "      <th>IsoD</th>\n",
       "      <th>BB/K</th>\n",
       "      <th>BABIP</th>\n",
       "      <th>RC</th>\n",
       "      <th>RC27</th>\n",
       "      <th>AB/HR</th>\n",
       "      <th>PA/K</th>\n",
       "      <th>PS</th>\n",
       "      <th>Spd</th>\n",
       "      <th>簡易RF</th>\n",
       "    </tr>\n",
       "  </thead>\n",
       "  <tbody>\n",
       "    <tr>\n",
       "      <th>0</th>\n",
       "      <td>2011</td>\n",
       "      <td>北海道日本ハム</td>\n",
       "      <td>50.0</td>\n",
       "      <td>110.0</td>\n",
       "      <td>92.0</td>\n",
       "      <td>9.0</td>\n",
       "      <td>17.0</td>\n",
       "      <td>3.0</td>\n",
       "      <td>1.0</td>\n",
       "      <td>0.0</td>\n",
       "      <td>...</td>\n",
       "      <td>0.057</td>\n",
       "      <td>0.238095</td>\n",
       "      <td>0.239437</td>\n",
       "      <td>5.276768</td>\n",
       "      <td>1.583030</td>\n",
       "      <td>inf</td>\n",
       "      <td>4.380952</td>\n",
       "      <td>0.000000</td>\n",
       "      <td>6.725837</td>\n",
       "      <td>1.200000</td>\n",
       "    </tr>\n",
       "    <tr>\n",
       "      <th>1</th>\n",
       "      <td>2012</td>\n",
       "      <td>北海道日本ハム</td>\n",
       "      <td>58.0</td>\n",
       "      <td>133.0</td>\n",
       "      <td>115.0</td>\n",
       "      <td>11.0</td>\n",
       "      <td>27.0</td>\n",
       "      <td>3.0</td>\n",
       "      <td>1.0</td>\n",
       "      <td>2.0</td>\n",
       "      <td>...</td>\n",
       "      <td>0.045</td>\n",
       "      <td>0.388889</td>\n",
       "      <td>0.257732</td>\n",
       "      <td>11.273835</td>\n",
       "      <td>3.013797</td>\n",
       "      <td>57.5</td>\n",
       "      <td>6.388889</td>\n",
       "      <td>2.666667</td>\n",
       "      <td>4.566355</td>\n",
       "      <td>1.103448</td>\n",
       "    </tr>\n",
       "    <tr>\n",
       "      <th>2</th>\n",
       "      <td>2013</td>\n",
       "      <td>北海道日本ハム</td>\n",
       "      <td>55.0</td>\n",
       "      <td>165.0</td>\n",
       "      <td>141.0</td>\n",
       "      <td>11.0</td>\n",
       "      <td>28.0</td>\n",
       "      <td>5.0</td>\n",
       "      <td>1.0</td>\n",
       "      <td>0.0</td>\n",
       "      <td>...</td>\n",
       "      <td>0.067</td>\n",
       "      <td>0.500000</td>\n",
       "      <td>0.239316</td>\n",
       "      <td>8.876875</td>\n",
       "      <td>1.887210</td>\n",
       "      <td>inf</td>\n",
       "      <td>5.875000</td>\n",
       "      <td>NaN</td>\n",
       "      <td>2.552969</td>\n",
       "      <td>1.787879</td>\n",
       "    </tr>\n",
       "    <tr>\n",
       "      <th>3</th>\n",
       "      <td>2014</td>\n",
       "      <td>北海道日本ハム</td>\n",
       "      <td>87.0</td>\n",
       "      <td>146.0</td>\n",
       "      <td>123.0</td>\n",
       "      <td>21.0</td>\n",
       "      <td>25.0</td>\n",
       "      <td>4.0</td>\n",
       "      <td>2.0</td>\n",
       "      <td>2.0</td>\n",
       "      <td>...</td>\n",
       "      <td>0.071</td>\n",
       "      <td>0.421053</td>\n",
       "      <td>0.225490</td>\n",
       "      <td>13.028210</td>\n",
       "      <td>3.169024</td>\n",
       "      <td>61.5</td>\n",
       "      <td>6.473684</td>\n",
       "      <td>3.384615</td>\n",
       "      <td>8.936958</td>\n",
       "      <td>0.884058</td>\n",
       "    </tr>\n",
       "    <tr>\n",
       "      <th>4</th>\n",
       "      <td>2015</td>\n",
       "      <td>北海道日本ハム</td>\n",
       "      <td>84.0</td>\n",
       "      <td>192.0</td>\n",
       "      <td>166.0</td>\n",
       "      <td>25.0</td>\n",
       "      <td>49.0</td>\n",
       "      <td>5.0</td>\n",
       "      <td>2.0</td>\n",
       "      <td>1.0</td>\n",
       "      <td>...</td>\n",
       "      <td>0.060</td>\n",
       "      <td>0.321429</td>\n",
       "      <td>0.347826</td>\n",
       "      <td>22.196049</td>\n",
       "      <td>4.439210</td>\n",
       "      <td>166.0</td>\n",
       "      <td>5.928571</td>\n",
       "      <td>1.777778</td>\n",
       "      <td>5.759226</td>\n",
       "      <td>1.132353</td>\n",
       "    </tr>\n",
       "  </tbody>\n",
       "</table>\n",
       "<p>5 rows × 41 columns</p>\n",
       "</div>"
      ],
      "text/plain": [
       "     年度     所属球団  試合_x     打席     打数    得点    安打  二塁打  三塁打  本塁打  ...   IsoD  \\\n",
       "0  2011  北海道日本ハム  50.0  110.0   92.0   9.0  17.0  3.0  1.0  0.0  ...  0.057   \n",
       "1  2012  北海道日本ハム  58.0  133.0  115.0  11.0  27.0  3.0  1.0  2.0  ...  0.045   \n",
       "2  2013  北海道日本ハム  55.0  165.0  141.0  11.0  28.0  5.0  1.0  0.0  ...  0.067   \n",
       "3  2014  北海道日本ハム  87.0  146.0  123.0  21.0  25.0  4.0  2.0  2.0  ...  0.071   \n",
       "4  2015  北海道日本ハム  84.0  192.0  166.0  25.0  49.0  5.0  2.0  1.0  ...  0.060   \n",
       "\n",
       "       BB/K     BABIP         RC      RC27  AB/HR      PA/K        PS  \\\n",
       "0  0.238095  0.239437   5.276768  1.583030    inf  4.380952  0.000000   \n",
       "1  0.388889  0.257732  11.273835  3.013797   57.5  6.388889  2.666667   \n",
       "2  0.500000  0.239316   8.876875  1.887210    inf  5.875000       NaN   \n",
       "3  0.421053  0.225490  13.028210  3.169024   61.5  6.473684  3.384615   \n",
       "4  0.321429  0.347826  22.196049  4.439210  166.0  5.928571  1.777778   \n",
       "\n",
       "        Spd      簡易RF  \n",
       "0  6.725837  1.200000  \n",
       "1  4.566355  1.103448  \n",
       "2  2.552969  1.787879  \n",
       "3  8.936958  0.884058  \n",
       "4  5.759226  1.132353  \n",
       "\n",
       "[5 rows x 41 columns]"
      ]
     },
     "execution_count": 42,
     "metadata": {},
     "output_type": "execute_result"
    }
   ],
   "source": [
    "sugiya.head()"
   ]
  },
  {
   "cell_type": "code",
   "execution_count": 43,
   "metadata": {},
   "outputs": [],
   "source": [
    "sugiya = sugiya.set_index('年度')"
   ]
  },
  {
   "cell_type": "code",
   "execution_count": 55,
   "metadata": {},
   "outputs": [
    {
     "data": {
      "text/plain": [
       "5.221487981217723"
      ]
     },
     "execution_count": 55,
     "metadata": {},
     "output_type": "execute_result"
    },
    {
     "data": {
      "image/png": "[encoded data removed]",
      "text/plain": [
       "<Figure size 432x288 with 1 Axes>"
      ]
     },
     "metadata": {
      "needs_background": "light"
     },
     "output_type": "display_data"
    }
   ],
   "source": [
    "sugiya['Spd'].plot(kind='bar',color='cyan',x='年度')\n",
    "plt.ylabel('Spd')\n",
    "plt.savefig('Spd.png')\n",
    "sugiya['Spd'].mean()"
   ]
  },
  {
   "cell_type": "code",
   "execution_count": 53,
   "metadata": {},
   "outputs": [
    {
     "data": {
      "text/html": [
       "<div>\n",
       "<style scoped>\n",
       "    .dataframe tbody tr th:only-of-type {\n",
       "        vertical-align: middle;\n",
       "    }\n",
       "\n",
       "    .dataframe tbody tr th {\n",
       "        vertical-align: top;\n",
       "    }\n",
       "\n",
       "    .dataframe thead th {\n",
       "        text-align: right;\n",
       "    }\n",
       "</style>\n",
       "<table border=\"1\" class=\"dataframe\">\n",
       "  <thead>\n",
       "    <tr style=\"text-align: right;\">\n",
       "      <th></th>\n",
       "      <th>IsoD</th>\n",
       "      <th>IsoP</th>\n",
       "    </tr>\n",
       "    <tr>\n",
       "      <th>年度</th>\n",
       "      <th></th>\n",
       "      <th></th>\n",
       "    </tr>\n",
       "  </thead>\n",
       "  <tbody>\n",
       "    <tr>\n",
       "      <th>2011</th>\n",
       "      <td>0.057</td>\n",
       "      <td>0.054</td>\n",
       "    </tr>\n",
       "    <tr>\n",
       "      <th>2012</th>\n",
       "      <td>0.045</td>\n",
       "      <td>0.095</td>\n",
       "    </tr>\n",
       "    <tr>\n",
       "      <th>2013</th>\n",
       "      <td>0.067</td>\n",
       "      <td>0.049</td>\n",
       "    </tr>\n",
       "    <tr>\n",
       "      <th>2014</th>\n",
       "      <td>0.071</td>\n",
       "      <td>0.114</td>\n",
       "    </tr>\n",
       "    <tr>\n",
       "      <th>2015</th>\n",
       "      <td>0.060</td>\n",
       "      <td>0.072</td>\n",
       "    </tr>\n",
       "    <tr>\n",
       "      <th>2016</th>\n",
       "      <td>0.073</td>\n",
       "      <td>0.068</td>\n",
       "    </tr>\n",
       "    <tr>\n",
       "      <th>2017</th>\n",
       "      <td>0.053</td>\n",
       "      <td>0.053</td>\n",
       "    </tr>\n",
       "    <tr>\n",
       "      <th>2018</th>\n",
       "      <td>0.108</td>\n",
       "      <td>0.125</td>\n",
       "    </tr>\n",
       "    <tr>\n",
       "      <th>2019</th>\n",
       "      <td>0.082</td>\n",
       "      <td>0.134</td>\n",
       "    </tr>\n",
       "  </tbody>\n",
       "</table>\n",
       "</div>"
      ],
      "text/plain": [
       "       IsoD   IsoP\n",
       "年度                \n",
       "2011  0.057  0.054\n",
       "2012  0.045  0.095\n",
       "2013  0.067  0.049\n",
       "2014  0.071  0.114\n",
       "2015  0.060  0.072\n",
       "2016  0.073  0.068\n",
       "2017  0.053  0.053\n",
       "2018  0.108  0.125\n",
       "2019  0.082  0.134"
      ]
     },
     "execution_count": 53,
     "metadata": {},
     "output_type": "execute_result"
    },
    {
     "data": {
      "image/png": "[encoded data removed]",
      "text/plain": [
       "<Figure size 432x288 with 1 Axes>"
      ]
     },
     "metadata": {
      "needs_background": "light"
     },
     "output_type": "display_data"
    }
   ],
   "source": [
    "plt.scatter(sugiya['IsoD'],sugiya['IsoP'],c=sugiya.index)\n",
    "plt.xlabel('IsoD')\n",
    "plt.ylabel('IsoP')\n",
    "plt.savefig('IsoDvsIsoP.png')\n",
    "sugiya[['IsoD','IsoP']]"
   ]
  },
  {
   "cell_type": "code",
   "execution_count": 54,
   "metadata": {},
   "outputs": [
    {
     "data": {
      "text/html": [
       "<div>\n",
       "<style scoped>\n",
       "    .dataframe tbody tr th:only-of-type {\n",
       "        vertical-align: middle;\n",
       "    }\n",
       "\n",
       "    .dataframe tbody tr th {\n",
       "        vertical-align: top;\n",
       "    }\n",
       "\n",
       "    .dataframe thead th {\n",
       "        text-align: right;\n",
       "    }\n",
       "</style>\n",
       "<table border=\"1\" class=\"dataframe\">\n",
       "  <thead>\n",
       "    <tr style=\"text-align: right;\">\n",
       "      <th></th>\n",
       "      <th>IsoD</th>\n",
       "      <th>IsoP</th>\n",
       "    </tr>\n",
       "  </thead>\n",
       "  <tbody>\n",
       "    <tr>\n",
       "      <th>IsoD</th>\n",
       "      <td>1.000000</td>\n",
       "      <td>0.615949</td>\n",
       "    </tr>\n",
       "    <tr>\n",
       "      <th>IsoP</th>\n",
       "      <td>0.615949</td>\n",
       "      <td>1.000000</td>\n",
       "    </tr>\n",
       "  </tbody>\n",
       "</table>\n",
       "</div>"
      ],
      "text/plain": [
       "          IsoD      IsoP\n",
       "IsoD  1.000000  0.615949\n",
       "IsoP  0.615949  1.000000"
      ]
     },
     "execution_count": 54,
     "metadata": {},
     "output_type": "execute_result"
    }
   ],
   "source": [
    "sugiya[['IsoD','IsoP']].corr()"
   ]
  },
  {
   "cell_type": "code",
   "execution_count": 45,
   "metadata": {},
   "outputs": [
    {
     "data": {
      "text/plain": [
       "試合_x      64.888889\n",
       "打席       139.555556\n",
       "打数       117.111111\n",
       "得点        13.888889\n",
       "安打        26.000000\n",
       "二塁打        3.888889\n",
       "三塁打        1.111111\n",
       "本塁打        1.333333\n",
       "塁打        36.111111\n",
       "打点         9.000000\n",
       "盗塁         4.888889\n",
       "盗塁刺        2.111111\n",
       "犠打        10.000000\n",
       "犠飛         0.666667\n",
       "四球         9.111111\n",
       "死球         2.666667\n",
       "三振        23.222222\n",
       "併殺打        1.333333\n",
       "打率         0.216000\n",
       "長打率        0.300889\n",
       "出塁率        0.284444\n",
       "試合        39.888889\n",
       "刺殺        42.222222\n",
       "補殺         0.888889\n",
       "失策         0.444444\n",
       "併殺         0.111111\n",
       "守備率        0.993111\n",
       "OPS        0.585333\n",
       "IsoP       0.084889\n",
       "IsoD       0.068444\n",
       "BB/K       0.395426\n",
       "BABIP      0.258232\n",
       "RC        11.404992\n",
       "RC27       2.810411\n",
       "AB/HR           inf\n",
       "PA/K       5.137895\n",
       "PS         1.962759\n",
       "Spd        5.221488\n",
       "簡易RF       1.107777\n",
       "dtype: float64"
      ]
     },
     "execution_count": 45,
     "metadata": {},
     "output_type": "execute_result"
    }
   ],
   "source": [
    "sugiya.mean()"
   ]
  },
  {
   "cell_type": "code",
   "execution_count": null,
   "metadata": {},
   "outputs": [],
   "source": []
  }
 ],
 "metadata": {
  "kernelspec": {
   "display_name": "Python 3",
   "language": "python",
   "name": "python3"
  },
  "language_info": {
   "codemirror_mode": {
    "name": "ipython",
    "version": 3
   },
   "file_extension": ".py",
   "mimetype": "text/x-python",
   "name": "python",
   "nbconvert_exporter": "python",
   "pygments_lexer": "ipython3",
   "version": "3.7.1"
  }
 },
 "nbformat": 4,
 "nbformat_minor": 2
}

{
 "cells": [
  {
   "cell_type": "code",
   "execution_count": 1,
   "metadata": {},
   "outputs": [],
   "source": [
    "import ProfessionalBaseballAnalytics as PBA"
   ]
  },
  {
   "cell_type": "code",
   "execution_count": 2,
   "metadata": {},
   "outputs": [],
   "source": [
    "data = PBA.pd.read_html('https://baseball.yahoo.co.jp/npb/player/1000124/year')"
   ]
  },
  {
   "cell_type": "code",
   "execution_count": 6,
   "metadata": {},
   "outputs": [],
   "source": [
    "yuki_saito = data[1]"
   ]
  },
  {
   "cell_type": "code",
   "execution_count": 7,
   "metadata": {},
   "outputs": [
    {
     "name": "stdout",
     "output_type": "stream",
     "text": [
      "key error exception\n",
      "計算終了\n"
     ]
    }
   ],
   "source": [
    "yuki_saito = PBA.CyberMetricsPitcher(yuki_saito)"
   ]
  },
  {
   "cell_type": "code",
   "execution_count": 9,
   "metadata": {},
   "outputs": [],
   "source": [
    "yuki_saito_year = yuki_saito[:-1]"
   ]
  },
  {
   "cell_type": "code",
   "execution_count": 11,
   "metadata": {},
   "outputs": [
    {
     "data": {
      "text/html": [
       "<div>\n",
       "<style scoped>\n",
       "    .dataframe tbody tr th:only-of-type {\n",
       "        vertical-align: middle;\n",
       "    }\n",
       "\n",
       "    .dataframe tbody tr th {\n",
       "        vertical-align: top;\n",
       "    }\n",
       "\n",
       "    .dataframe thead th {\n",
       "        text-align: right;\n",
       "    }\n",
       "</style>\n",
       "<table border=\"1\" class=\"dataframe\">\n",
       "  <thead>\n",
       "    <tr style=\"text-align: right;\">\n",
       "      <th></th>\n",
       "      <th>年度</th>\n",
       "      <th>チ|ム</th>\n",
       "      <th>防御率</th>\n",
       "      <th>登板</th>\n",
       "      <th>先発</th>\n",
       "      <th>完投</th>\n",
       "      <th>完封</th>\n",
       "      <th>無四球</th>\n",
       "      <th>交代完了</th>\n",
       "      <th>勝利</th>\n",
       "      <th>...</th>\n",
       "      <th>失点</th>\n",
       "      <th>自責点</th>\n",
       "      <th>被打率</th>\n",
       "      <th>FIP</th>\n",
       "      <th>LOB</th>\n",
       "      <th>BB/9</th>\n",
       "      <th>HR/9</th>\n",
       "      <th>WHIP</th>\n",
       "      <th>K/BB</th>\n",
       "      <th>BABIP</th>\n",
       "    </tr>\n",
       "  </thead>\n",
       "  <tbody>\n",
       "    <tr>\n",
       "      <th>0</th>\n",
       "      <td>2011</td>\n",
       "      <td>日本ハム</td>\n",
       "      <td>2.69</td>\n",
       "      <td>19</td>\n",
       "      <td>19</td>\n",
       "      <td>1</td>\n",
       "      <td>0</td>\n",
       "      <td>0</td>\n",
       "      <td>0</td>\n",
       "      <td>6</td>\n",
       "      <td>...</td>\n",
       "      <td>41</td>\n",
       "      <td>32</td>\n",
       "      <td>0.293</td>\n",
       "      <td>3.690093</td>\n",
       "      <td>0.780645</td>\n",
       "      <td>2.943925</td>\n",
       "      <td>0.420561</td>\n",
       "      <td>1.467290</td>\n",
       "      <td>1.771429</td>\n",
       "      <td>0.288889</td>\n",
       "    </tr>\n",
       "    <tr>\n",
       "      <th>1</th>\n",
       "      <td>2012</td>\n",
       "      <td>日本ハム</td>\n",
       "      <td>3.98</td>\n",
       "      <td>19</td>\n",
       "      <td>18</td>\n",
       "      <td>2</td>\n",
       "      <td>1</td>\n",
       "      <td>0</td>\n",
       "      <td>1</td>\n",
       "      <td>5</td>\n",
       "      <td>...</td>\n",
       "      <td>60</td>\n",
       "      <td>46</td>\n",
       "      <td>0.300</td>\n",
       "      <td>4.427692</td>\n",
       "      <td>0.703883</td>\n",
       "      <td>4.153846</td>\n",
       "      <td>0.692308</td>\n",
       "      <td>1.673077</td>\n",
       "      <td>1.229167</td>\n",
       "      <td>0.285714</td>\n",
       "    </tr>\n",
       "    <tr>\n",
       "      <th>2</th>\n",
       "      <td>2013</td>\n",
       "      <td>日本ハム</td>\n",
       "      <td>13.50</td>\n",
       "      <td>1</td>\n",
       "      <td>1</td>\n",
       "      <td>0</td>\n",
       "      <td>0</td>\n",
       "      <td>0</td>\n",
       "      <td>0</td>\n",
       "      <td>0</td>\n",
       "      <td>...</td>\n",
       "      <td>6</td>\n",
       "      <td>6</td>\n",
       "      <td>0.313</td>\n",
       "      <td>7.120000</td>\n",
       "      <td>0.454545</td>\n",
       "      <td>11.250000</td>\n",
       "      <td>0.000000</td>\n",
       "      <td>2.500000</td>\n",
       "      <td>0.200000</td>\n",
       "      <td>0.227273</td>\n",
       "    </tr>\n",
       "    <tr>\n",
       "      <th>3</th>\n",
       "      <td>2014</td>\n",
       "      <td>日本ハム</td>\n",
       "      <td>4.85</td>\n",
       "      <td>6</td>\n",
       "      <td>6</td>\n",
       "      <td>0</td>\n",
       "      <td>0</td>\n",
       "      <td>0</td>\n",
       "      <td>0</td>\n",
       "      <td>2</td>\n",
       "      <td>...</td>\n",
       "      <td>15</td>\n",
       "      <td>14</td>\n",
       "      <td>0.283</td>\n",
       "      <td>5.543077</td>\n",
       "      <td>0.761421</td>\n",
       "      <td>5.538462</td>\n",
       "      <td>1.384615</td>\n",
       "      <td>1.692308</td>\n",
       "      <td>1.250000</td>\n",
       "      <td>0.255319</td>\n",
       "    </tr>\n",
       "    <tr>\n",
       "      <th>4</th>\n",
       "      <td>2015</td>\n",
       "      <td>日本ハム</td>\n",
       "      <td>5.74</td>\n",
       "      <td>12</td>\n",
       "      <td>7</td>\n",
       "      <td>0</td>\n",
       "      <td>0</td>\n",
       "      <td>0</td>\n",
       "      <td>3</td>\n",
       "      <td>1</td>\n",
       "      <td>...</td>\n",
       "      <td>28</td>\n",
       "      <td>27</td>\n",
       "      <td>0.304</td>\n",
       "      <td>4.592684</td>\n",
       "      <td>0.650000</td>\n",
       "      <td>2.992874</td>\n",
       "      <td>1.068884</td>\n",
       "      <td>1.567696</td>\n",
       "      <td>1.714286</td>\n",
       "      <td>0.291925</td>\n",
       "    </tr>\n",
       "    <tr>\n",
       "      <th>5</th>\n",
       "      <td>2016</td>\n",
       "      <td>日本ハム</td>\n",
       "      <td>4.56</td>\n",
       "      <td>11</td>\n",
       "      <td>3</td>\n",
       "      <td>0</td>\n",
       "      <td>0</td>\n",
       "      <td>0</td>\n",
       "      <td>3</td>\n",
       "      <td>0</td>\n",
       "      <td>...</td>\n",
       "      <td>12</td>\n",
       "      <td>12</td>\n",
       "      <td>0.292</td>\n",
       "      <td>4.714828</td>\n",
       "      <td>0.745856</td>\n",
       "      <td>4.267241</td>\n",
       "      <td>0.775862</td>\n",
       "      <td>1.594828</td>\n",
       "      <td>1.272727</td>\n",
       "      <td>0.272727</td>\n",
       "    </tr>\n",
       "    <tr>\n",
       "      <th>6</th>\n",
       "      <td>2017</td>\n",
       "      <td>日本ハム</td>\n",
       "      <td>6.75</td>\n",
       "      <td>6</td>\n",
       "      <td>6</td>\n",
       "      <td>0</td>\n",
       "      <td>0</td>\n",
       "      <td>0</td>\n",
       "      <td>0</td>\n",
       "      <td>1</td>\n",
       "      <td>...</td>\n",
       "      <td>23</td>\n",
       "      <td>21</td>\n",
       "      <td>0.336</td>\n",
       "      <td>4.262857</td>\n",
       "      <td>0.550239</td>\n",
       "      <td>1.607143</td>\n",
       "      <td>0.964286</td>\n",
       "      <td>1.571429</td>\n",
       "      <td>2.800000</td>\n",
       "      <td>0.330275</td>\n",
       "    </tr>\n",
       "    <tr>\n",
       "      <th>7</th>\n",
       "      <td>2018</td>\n",
       "      <td>日本ハム</td>\n",
       "      <td>7.27</td>\n",
       "      <td>3</td>\n",
       "      <td>2</td>\n",
       "      <td>0</td>\n",
       "      <td>0</td>\n",
       "      <td>0</td>\n",
       "      <td>0</td>\n",
       "      <td>0</td>\n",
       "      <td>...</td>\n",
       "      <td>8</td>\n",
       "      <td>7</td>\n",
       "      <td>0.276</td>\n",
       "      <td>10.680976</td>\n",
       "      <td>0.729167</td>\n",
       "      <td>13.170732</td>\n",
       "      <td>2.195122</td>\n",
       "      <td>2.439024</td>\n",
       "      <td>0.250000</td>\n",
       "      <td>0.150000</td>\n",
       "    </tr>\n",
       "    <tr>\n",
       "      <th>8</th>\n",
       "      <td>2019</td>\n",
       "      <td>日本ハム</td>\n",
       "      <td>4.71</td>\n",
       "      <td>11</td>\n",
       "      <td>1</td>\n",
       "      <td>0</td>\n",
       "      <td>0</td>\n",
       "      <td>0</td>\n",
       "      <td>5</td>\n",
       "      <td>0</td>\n",
       "      <td>...</td>\n",
       "      <td>12</td>\n",
       "      <td>11</td>\n",
       "      <td>0.247</td>\n",
       "      <td>3.739048</td>\n",
       "      <td>0.585938</td>\n",
       "      <td>3.428571</td>\n",
       "      <td>0.428571</td>\n",
       "      <td>1.285714</td>\n",
       "      <td>1.500000</td>\n",
       "      <td>0.243243</td>\n",
       "    </tr>\n",
       "  </tbody>\n",
       "</table>\n",
       "<p>9 rows × 35 columns</p>\n",
       "</div>"
      ],
      "text/plain": [
       "     年度   チ|ム    防御率  登板  先発  完投  完封  無四球  交代完了  勝利  ...  失点  自責点    被打率  \\\n",
       "0  2011  日本ハム   2.69  19  19   1   0    0     0   6  ...  41   32  0.293   \n",
       "1  2012  日本ハム   3.98  19  18   2   1    0     1   5  ...  60   46  0.300   \n",
       "2  2013  日本ハム  13.50   1   1   0   0    0     0   0  ...   6    6  0.313   \n",
       "3  2014  日本ハム   4.85   6   6   0   0    0     0   2  ...  15   14  0.283   \n",
       "4  2015  日本ハム   5.74  12   7   0   0    0     3   1  ...  28   27  0.304   \n",
       "5  2016  日本ハム   4.56  11   3   0   0    0     3   0  ...  12   12  0.292   \n",
       "6  2017  日本ハム   6.75   6   6   0   0    0     0   1  ...  23   21  0.336   \n",
       "7  2018  日本ハム   7.27   3   2   0   0    0     0   0  ...   8    7  0.276   \n",
       "8  2019  日本ハム   4.71  11   1   0   0    0     5   0  ...  12   11  0.247   \n",
       "\n",
       "         FIP       LOB       BB/9      HR/9      WHIP      K/BB     BABIP  \n",
       "0   3.690093  0.780645   2.943925  0.420561  1.467290  1.771429  0.288889  \n",
       "1   4.427692  0.703883   4.153846  0.692308  1.673077  1.229167  0.285714  \n",
       "2   7.120000  0.454545  11.250000  0.000000  2.500000  0.200000  0.227273  \n",
       "3   5.543077  0.761421   5.538462  1.384615  1.692308  1.250000  0.255319  \n",
       "4   4.592684  0.650000   2.992874  1.068884  1.567696  1.714286  0.291925  \n",
       "5   4.714828  0.745856   4.267241  0.775862  1.594828  1.272727  0.272727  \n",
       "6   4.262857  0.550239   1.607143  0.964286  1.571429  2.800000  0.330275  \n",
       "7  10.680976  0.729167  13.170732  2.195122  2.439024  0.250000  0.150000  \n",
       "8   3.739048  0.585938   3.428571  0.428571  1.285714  1.500000  0.243243  \n",
       "\n",
       "[9 rows x 35 columns]"
      ]
     },
     "execution_count": 11,
     "metadata": {},
     "output_type": "execute_result"
    }
   ],
   "source": [
    "yuki_saito_year"
   ]
  },
  {
   "cell_type": "code",
   "execution_count": 12,
   "metadata": {},
   "outputs": [],
   "source": [
    "yuki_saito_total=yuki_saito[-1:]"
   ]
  },
  {
   "cell_type": "code",
   "execution_count": 14,
   "metadata": {},
   "outputs": [
    {
     "data": {
      "text/plain": [
       "Index(['年度', 'チ|ム', '防御率', '登板', '先発', '完投', '完封', '無四球', '交代完了', '勝利', '敗戦',\n",
       "       'ホ|ルド', 'HP', 'セ|ブ', '勝率', '投球回', '打者', '被安打', '被本塁打', '奪三振', '奪三振率',\n",
       "       '与四球', '与死球', '暴投', 'ボ|ク', '失点', '自責点', '被打率', 'FIP', 'LOB', 'BB/9',\n",
       "       'HR/9', 'WHIP', 'K/BB', 'BABIP'],\n",
       "      dtype='object')"
      ]
     },
     "execution_count": 14,
     "metadata": {},
     "output_type": "execute_result"
    }
   ],
   "source": [
    "yuki_saito_total.columns"
   ]
  },
  {
   "cell_type": "code",
   "execution_count": 20,
   "metadata": {},
   "outputs": [],
   "source": [
    "yuki_saito_year = yuki_saito_year.set_index('年度')"
   ]
  },
  {
   "cell_type": "code",
   "execution_count": 26,
   "metadata": {},
   "outputs": [
    {
     "data": {
      "image/png": "[encoded data removed]",
      "text/plain": [
       "<Figure size 720x720 with 3 Axes>"
      ]
     },
     "metadata": {
      "needs_background": "light"
     },
     "output_type": "display_data"
    }
   ],
   "source": [
    "yuki_saito_year[['防御率','FIP','BABIP']].plot(kind='bar',subplots=True,figsize=(10,10))\n",
    "PBA.plt.savefig('yuki_saito_ERA_FIP_BABIP.png')"
   ]
  },
  {
   "cell_type": "code",
   "execution_count": 27,
   "metadata": {},
   "outputs": [],
   "source": [
    "yuki_saito_year.to_csv('yuki_saito_F.csv',index=False)"
   ]
  },
  {
   "cell_type": "code",
   "execution_count": 38,
   "metadata": {},
   "outputs": [],
   "source": [
    "ys = yuki_saito_year.drop(['2013','2018'],axis=0)"
   ]
  },
  {
   "cell_type": "code",
   "execution_count": 59,
   "metadata": {},
   "outputs": [
    {
     "data": {
      "image/png": "[encoded data removed]",
      "text/plain": [
       "<Figure size 720x720 with 3 Axes>"
      ]
     },
     "metadata": {
      "needs_background": "light"
     },
     "output_type": "display_data"
    }
   ],
   "source": [
    "ys[['BB/9','HR/9','K/BB']].plot(subplots=True,figsize=(10,10),kind='bar')\n",
    "PBA.plt.savefig('ratio.png')"
   ]
  },
  {
   "cell_type": "code",
   "execution_count": 54,
   "metadata": {},
   "outputs": [
    {
     "data": {
      "image/png": "[encoded data removed]",
      "text/plain": [
       "<Figure size 360x360 with 1 Axes>"
      ]
     },
     "metadata": {
      "needs_background": "light"
     },
     "output_type": "display_data"
    }
   ],
   "source": [
    "ys[['LOB']].plot(kind='line',figsize=(5,5))\n",
    "PBA.plt.ylabel('LOB')\n",
    "PBA.plt.savefig('ys_LOB.png')"
   ]
  },
  {
   "cell_type": "code",
   "execution_count": 53,
   "metadata": {},
   "outputs": [
    {
     "data": {
      "image/png": "[encoded data removed]",
      "text/plain": [
       "<Figure size 360x360 with 1 Axes>"
      ]
     },
     "metadata": {
      "needs_background": "light"
     },
     "output_type": "display_data"
    }
   ],
   "source": [
    "ys[['WHIP']].plot(kind='line',figsize=(5,5),color='pink')\n",
    "PBA.plt.ylabel('WHIP')\n",
    "PBA.plt.savefig('WHIP_ys.png')"
   ]
  },
  {
   "cell_type": "code",
   "execution_count": 60,
   "metadata": {},
   "outputs": [
    {
     "data": {
      "image/png": "[encoded data removed]",
      "text/plain": [
       "<Figure size 360x360 with 1 Axes>"
      ]
     },
     "metadata": {
      "needs_background": "light"
     },
     "output_type": "display_data"
    }
   ],
   "source": [
    "ys[['登板','先発','投球回']].plot(kind='bar',figsize=(5,5))\n",
    "PBA.plt.savefig('counts_ys.png')"
   ]
  },
  {
   "cell_type": "code",
   "execution_count": 61,
   "metadata": {},
   "outputs": [
    {
     "data": {
      "text/html": [
       "<div>\n",
       "<style scoped>\n",
       "    .dataframe tbody tr th:only-of-type {\n",
       "        vertical-align: middle;\n",
       "    }\n",
       "\n",
       "    .dataframe tbody tr th {\n",
       "        vertical-align: top;\n",
       "    }\n",
       "\n",
       "    .dataframe thead th {\n",
       "        text-align: right;\n",
       "    }\n",
       "</style>\n",
       "<table border=\"1\" class=\"dataframe\">\n",
       "  <thead>\n",
       "    <tr style=\"text-align: right;\">\n",
       "      <th></th>\n",
       "      <th>防御率</th>\n",
       "      <th>FIP</th>\n",
       "      <th>BABIP</th>\n",
       "    </tr>\n",
       "    <tr>\n",
       "      <th>年度</th>\n",
       "      <th></th>\n",
       "      <th></th>\n",
       "      <th></th>\n",
       "    </tr>\n",
       "  </thead>\n",
       "  <tbody>\n",
       "    <tr>\n",
       "      <th>2011</th>\n",
       "      <td>2.69</td>\n",
       "      <td>3.690093</td>\n",
       "      <td>0.288889</td>\n",
       "    </tr>\n",
       "    <tr>\n",
       "      <th>2012</th>\n",
       "      <td>3.98</td>\n",
       "      <td>4.427692</td>\n",
       "      <td>0.285714</td>\n",
       "    </tr>\n",
       "    <tr>\n",
       "      <th>2013</th>\n",
       "      <td>13.50</td>\n",
       "      <td>7.120000</td>\n",
       "      <td>0.227273</td>\n",
       "    </tr>\n",
       "    <tr>\n",
       "      <th>2014</th>\n",
       "      <td>4.85</td>\n",
       "      <td>5.543077</td>\n",
       "      <td>0.255319</td>\n",
       "    </tr>\n",
       "    <tr>\n",
       "      <th>2015</th>\n",
       "      <td>5.74</td>\n",
       "      <td>4.592684</td>\n",
       "      <td>0.291925</td>\n",
       "    </tr>\n",
       "    <tr>\n",
       "      <th>2016</th>\n",
       "      <td>4.56</td>\n",
       "      <td>4.714828</td>\n",
       "      <td>0.272727</td>\n",
       "    </tr>\n",
       "    <tr>\n",
       "      <th>2017</th>\n",
       "      <td>6.75</td>\n",
       "      <td>4.262857</td>\n",
       "      <td>0.330275</td>\n",
       "    </tr>\n",
       "    <tr>\n",
       "      <th>2018</th>\n",
       "      <td>7.27</td>\n",
       "      <td>10.680976</td>\n",
       "      <td>0.150000</td>\n",
       "    </tr>\n",
       "    <tr>\n",
       "      <th>2019</th>\n",
       "      <td>4.71</td>\n",
       "      <td>3.739048</td>\n",
       "      <td>0.243243</td>\n",
       "    </tr>\n",
       "  </tbody>\n",
       "</table>\n",
       "</div>"
      ],
      "text/plain": [
       "        防御率        FIP     BABIP\n",
       "年度                              \n",
       "2011   2.69   3.690093  0.288889\n",
       "2012   3.98   4.427692  0.285714\n",
       "2013  13.50   7.120000  0.227273\n",
       "2014   4.85   5.543077  0.255319\n",
       "2015   5.74   4.592684  0.291925\n",
       "2016   4.56   4.714828  0.272727\n",
       "2017   6.75   4.262857  0.330275\n",
       "2018   7.27  10.680976  0.150000\n",
       "2019   4.71   3.739048  0.243243"
      ]
     },
     "execution_count": 61,
     "metadata": {},
     "output_type": "execute_result"
    }
   ],
   "source": [
    "yuki_saito_year[['防御率','FIP','BABIP']]"
   ]
  },
  {
   "cell_type": "code",
   "execution_count": null,
   "metadata": {},
   "outputs": [],
   "source": []
  }
 ],
 "metadata": {
  "kernelspec": {
   "display_name": "Python 3",
   "language": "python",
   "name": "python3"
  },
  "language_info": {
   "codemirror_mode": {
    "name": "ipython",
    "version": 3
   },
   "file_extension": ".py",
   "mimetype": "text/x-python",
   "name": "python",
   "nbconvert_exporter": "python",
   "pygments_lexer": "ipython3",
   "version": "3.7.1"
  }
 },
 "nbformat": 4,
 "nbformat_minor": 2
}
